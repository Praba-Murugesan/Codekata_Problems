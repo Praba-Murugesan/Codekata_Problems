{
 "cells": [
  {
   "cell_type": "code",
   "execution_count": 9,
   "id": "df4b8993",
   "metadata": {},
   "outputs": [
    {
     "name": "stdout",
     "output_type": "stream",
     "text": [
      "01-01-1990\n",
      "January\n"
     ]
    }
   ],
   "source": [
    "import calendar\n",
    "S=input()\n",
    "l=[]\n",
    "for i in range(0,len(S)):\n",
    "    if(S[i].isalnum()):\n",
    "        l.append(S[i])\n",
    "m=l[2]+l[3]\n",
    "month_number=int(m)\n",
    "month_name = calendar.month_name[month_number]\n",
    "print(month_name)"
   ]
  },
  {
   "cell_type": "code",
   "execution_count": null,
   "id": "ec4e0019",
   "metadata": {},
   "outputs": [],
   "source": []
  },
  {
   "cell_type": "code",
   "execution_count": null,
   "id": "41483e8e",
   "metadata": {},
   "outputs": [],
   "source": []
  }
 ],
 "metadata": {
  "kernelspec": {
   "display_name": "Python 3 (ipykernel)",
   "language": "python",
   "name": "python3"
  },
  "language_info": {
   "codemirror_mode": {
    "name": "ipython",
    "version": 3
   },
   "file_extension": ".py",
   "mimetype": "text/x-python",
   "name": "python",
   "nbconvert_exporter": "python",
   "pygments_lexer": "ipython3",
   "version": "3.11.4"
  }
 },
 "nbformat": 4,
 "nbformat_minor": 5
}

{
 "cells": [
  {
   "cell_type": "code",
   "execution_count": 1,
   "id": "5656cead-c9c4-4dbb-8fae-3f8396cf02d7",
   "metadata": {
    "tags": []
   },
   "outputs": [
    {
     "name": "stdin",
     "output_type": "stream",
     "text": [
      " codekata\n"
     ]
    },
    {
     "name": "stdout",
     "output_type": "stream",
     "text": [
      "ocedakat\n"
     ]
    }
   ],
   "source": [
    "S=list(input())\n",
    "for i in range(0,(len(S)),2):\n",
    "    C=S[i]\n",
    "    S[i]=S[i+1]\n",
    "    S[i+1]=C\n",
    "print(\"\".join(S))\n"
   ]
  },
  {
   "cell_type": "code",
   "execution_count": null,
   "id": "0b2e4c1d-c01f-43b6-bc5c-093cda0e5581",
   "metadata": {},
   "outputs": [],
   "source": []
  }
 ],
 "metadata": {
  "kernelspec": {
   "display_name": "Python 3 (ipykernel)",
   "language": "python",
   "name": "python3"
  },
  "language_info": {
   "codemirror_mode": {
    "name": "ipython",
    "version": 3
   },
   "file_extension": ".py",
   "mimetype": "text/x-python",
   "name": "python",
   "nbconvert_exporter": "python",
   "pygments_lexer": "ipython3",
   "version": "3.11.4"
  }
 },
 "nbformat": 4,
 "nbformat_minor": 5
}

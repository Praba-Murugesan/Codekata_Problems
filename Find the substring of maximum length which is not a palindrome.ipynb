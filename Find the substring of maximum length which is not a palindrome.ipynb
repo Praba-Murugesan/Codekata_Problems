{
 "cells": [
  {
   "cell_type": "code",
   "execution_count": 6,
   "id": "3202dbea-8099-4002-9f11-af517a54ab94",
   "metadata": {
    "tags": []
   },
   "outputs": [
    {
     "name": "stdin",
     "output_type": "stream",
     "text": [
      " abcba\n"
     ]
    },
    {
     "name": "stdout",
     "output_type": "stream",
     "text": [
      "abcb\n"
     ]
    }
   ],
   "source": [
    "S=input()\n",
    "c=S[::-1]\n",
    "if(S==c):\n",
    "    print(S[0:-1])\n",
    "else:\n",
    "    print(S)"
   ]
  },
  {
   "cell_type": "code",
   "execution_count": null,
   "id": "49f2df88-040b-4535-9a0a-01fa3bd46ab8",
   "metadata": {},
   "outputs": [],
   "source": []
  }
 ],
 "metadata": {
  "kernelspec": {
   "display_name": "Python 3 (ipykernel)",
   "language": "python",
   "name": "python3"
  },
  "language_info": {
   "codemirror_mode": {
    "name": "ipython",
    "version": 3
   },
   "file_extension": ".py",
   "mimetype": "text/x-python",
   "name": "python",
   "nbconvert_exporter": "python",
   "pygments_lexer": "ipython3",
   "version": "3.11.4"
  }
 },
 "nbformat": 4,
 "nbformat_minor": 5
}

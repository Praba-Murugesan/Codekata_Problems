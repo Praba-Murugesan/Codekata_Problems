{
 "cells": [
  {
   "cell_type": "code",
   "execution_count": 2,
   "id": "3c5d658c",
   "metadata": {},
   "outputs": [
    {
     "name": "stdout",
     "output_type": "stream",
     "text": [
      "2143\n",
      "1 3\n"
     ]
    }
   ],
   "source": [
    "N=int(input())\n",
    "s=[]\n",
    "count=0\n",
    "if(N<=100000):\n",
    "    while(N>0):\n",
    "        r1=N%10\n",
    "        N=N//10\n",
    "        if(r1%2!=0):\n",
    "            s.append(r1)\n",
    "            count=count+1\n",
    "    if(count==0):\n",
    "      print('-1')\n",
    "print(*(s[::-1]))           "
   ]
  },
  {
   "cell_type": "code",
   "execution_count": null,
   "id": "42f83c24",
   "metadata": {},
   "outputs": [],
   "source": []
  },
  {
   "cell_type": "code",
   "execution_count": null,
   "id": "dafffc71",
   "metadata": {},
   "outputs": [],
   "source": []
  }
 ],
 "metadata": {
  "kernelspec": {
   "display_name": "Python 3 (ipykernel)",
   "language": "python",
   "name": "python3"
  },
  "language_info": {
   "codemirror_mode": {
    "name": "ipython",
    "version": 3
   },
   "file_extension": ".py",
   "mimetype": "text/x-python",
   "name": "python",
   "nbconvert_exporter": "python",
   "pygments_lexer": "ipython3",
   "version": "3.11.4"
  }
 },
 "nbformat": 4,
 "nbformat_minor": 5
}

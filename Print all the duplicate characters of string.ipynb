{
 "cells": [
  {
   "cell_type": "code",
   "execution_count": 1,
   "id": "46201688-3f40-4ab5-93e7-68f762585494",
   "metadata": {
    "tags": []
   },
   "outputs": [
    {
     "name": "stdin",
     "output_type": "stream",
     "text": [
      " ababac\n"
     ]
    },
    {
     "name": "stdout",
     "output_type": "stream",
     "text": [
      "a a b\n"
     ]
    }
   ],
   "source": [
    "s=input()\n",
    "l=[]\n",
    "c=[]\n",
    "for i in range(0,len(s)-1):\n",
    "  d=0\n",
    "  if(s[i] not in c):\n",
    "    for j in range(i+1,len(s)):\n",
    "        if(s[i]==s[j]):\n",
    "          d=d+1\n",
    "          c.append(s[i]) \n",
    "    if(d==0 ):\n",
    "        l.append(s[i])\n",
    "if len(c)==0:\n",
    "  print(-1)\n",
    "else:\n",
    "  print(*c)  \n",
    "   \n",
    "    \n",
    "    \n",
    "\n",
    "\n",
    "    \n",
    "                "
   ]
  },
  {
   "cell_type": "code",
   "execution_count": null,
   "id": "901ff7f3-cdde-45f6-b675-a5e2b0c34c07",
   "metadata": {},
   "outputs": [],
   "source": []
  }
 ],
 "metadata": {
  "kernelspec": {
   "display_name": "Python 3 (ipykernel)",
   "language": "python",
   "name": "python3"
  },
  "language_info": {
   "codemirror_mode": {
    "name": "ipython",
    "version": 3
   },
   "file_extension": ".py",
   "mimetype": "text/x-python",
   "name": "python",
   "nbconvert_exporter": "python",
   "pygments_lexer": "ipython3",
   "version": "3.11.4"
  }
 },
 "nbformat": 4,
 "nbformat_minor": 5
}

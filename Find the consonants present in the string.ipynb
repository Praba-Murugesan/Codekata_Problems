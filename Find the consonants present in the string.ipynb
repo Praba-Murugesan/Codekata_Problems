{
 "cells": [
  {
   "cell_type": "code",
   "execution_count": 1,
   "id": "05d3afcb-f6d4-4c85-a020-c3a4207bc015",
   "metadata": {
    "tags": []
   },
   "outputs": [
    {
     "name": "stdin",
     "output_type": "stream",
     "text": [
      " i am shrey\n"
     ]
    },
    {
     "name": "stdout",
     "output_type": "stream",
     "text": [
      " m shry"
     ]
    }
   ],
   "source": [
    "s=input()\n",
    "count=0\n",
    "a=[]\n",
    "for i in s:\n",
    "    if i not in 'aeiouAEIOU':\n",
    "        print(i,end='')\n",
    "        count+=1\n",
    "if(count==0):\n",
    "    print('-1')\n",
    "\n",
    "  \n",
    "    "
   ]
  },
  {
   "cell_type": "code",
   "execution_count": null,
   "id": "74069dda-ef9d-4641-ac05-f9463f6af501",
   "metadata": {},
   "outputs": [],
   "source": []
  }
 ],
 "metadata": {
  "kernelspec": {
   "display_name": "Python 3 (ipykernel)",
   "language": "python",
   "name": "python3"
  },
  "language_info": {
   "codemirror_mode": {
    "name": "ipython",
    "version": 3
   },
   "file_extension": ".py",
   "mimetype": "text/x-python",
   "name": "python",
   "nbconvert_exporter": "python",
   "pygments_lexer": "ipython3",
   "version": "3.11.4"
  }
 },
 "nbformat": 4,
 "nbformat_minor": 5
}

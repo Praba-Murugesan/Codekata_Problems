{
 "cells": [
  {
   "cell_type": "code",
   "execution_count": 1,
   "id": "e18b4230",
   "metadata": {},
   "outputs": [
    {
     "name": "stdout",
     "output_type": "stream",
     "text": [
      "4\n",
      "2 4 4 4\n",
      "2 6 10 14\n"
     ]
    }
   ],
   "source": [
    "N=int(input())\n",
    "l=list(map(int,input().split()))\n",
    "sum=0\n",
    "m=[]\n",
    "c=[]\n",
    "for i in range(0,N):    \n",
    "    sum=sum+l[i]\n",
    "    if(sum%2==0):\n",
    "        m.append(sum)\n",
    "    elif(sum%2!=0):\n",
    "        m.append(l[i])\n",
    "print(*m)\n",
    "    \n",
    "        "
   ]
  },
  {
   "cell_type": "code",
   "execution_count": null,
   "id": "4770d8e5",
   "metadata": {},
   "outputs": [],
   "source": []
  }
 ],
 "metadata": {
  "kernelspec": {
   "display_name": "Python 3 (ipykernel)",
   "language": "python",
   "name": "python3"
  },
  "language_info": {
   "codemirror_mode": {
    "name": "ipython",
    "version": 3
   },
   "file_extension": ".py",
   "mimetype": "text/x-python",
   "name": "python",
   "nbconvert_exporter": "python",
   "pygments_lexer": "ipython3",
   "version": "3.11.4"
  }
 },
 "nbformat": 4,
 "nbformat_minor": 5
}

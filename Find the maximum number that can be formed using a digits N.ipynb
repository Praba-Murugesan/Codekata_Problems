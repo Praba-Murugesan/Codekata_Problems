{
 "cells": [
  {
   "cell_type": "code",
   "execution_count": 1,
   "id": "1e9c8041",
   "metadata": {},
   "outputs": [
    {
     "name": "stdout",
     "output_type": "stream",
     "text": [
      "4123\n",
      "4321\n"
     ]
    }
   ],
   "source": [
    "N=int(input())\n",
    "l=[]\n",
    "c=[]\n",
    "while(N>0):\n",
    "    num=N \n",
    "    r=num%10\n",
    "    l.append(r)\n",
    "    N=num//10\n",
    "c=sorted(l)\n",
    "c=c[::-1]\n",
    "count=0\n",
    "for i in range(len(c),0,-1):\n",
    "  count=count+1\n",
    "sum=0\n",
    "count1=count-1\n",
    "for i in range(0,len(c)):\n",
    "  if(count1>=0):\n",
    "    sum=sum+c[i]*(10**count1)\n",
    "    count1=count1-1\n",
    "print(sum)"
   ]
  },
  {
   "cell_type": "code",
   "execution_count": null,
   "id": "d948d380",
   "metadata": {},
   "outputs": [],
   "source": []
  }
 ],
 "metadata": {
  "kernelspec": {
   "display_name": "Python 3 (ipykernel)",
   "language": "python",
   "name": "python3"
  },
  "language_info": {
   "codemirror_mode": {
    "name": "ipython",
    "version": 3
   },
   "file_extension": ".py",
   "mimetype": "text/x-python",
   "name": "python",
   "nbconvert_exporter": "python",
   "pygments_lexer": "ipython3",
   "version": "3.11.4"
  }
 },
 "nbformat": 4,
 "nbformat_minor": 5
}

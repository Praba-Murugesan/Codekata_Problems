{
 "cells": [
  {
   "cell_type": "code",
   "execution_count": 2,
   "id": "b25998a3-b927-467c-9067-ba6b51d20977",
   "metadata": {
    "tags": []
   },
   "outputs": [
    {
     "name": "stdin",
     "output_type": "stream",
     "text": [
      " AC30BD40\n"
     ]
    },
    {
     "name": "stdout",
     "output_type": "stream",
     "text": [
      "ACBD7\n"
     ]
    }
   ],
   "source": [
    "s=input()\n",
    "l=[]\n",
    "sum=0\n",
    "for i in s:\n",
    "    if(i.isalpha()):\n",
    "        l.append(i)\n",
    "for i in s:\n",
    "  if i in '123456789':\n",
    "    c=int(i)  \n",
    "    sum=sum+c\n",
    "l.append(str(sum))\n",
    "print(''.join(l))\n",
    "    "
   ]
  },
  {
   "cell_type": "code",
   "execution_count": null,
   "id": "3500e02a-0db3-4750-b108-4a850239c084",
   "metadata": {},
   "outputs": [],
   "source": []
  }
 ],
 "metadata": {
  "kernelspec": {
   "display_name": "Python 3 (ipykernel)",
   "language": "python",
   "name": "python3"
  },
  "language_info": {
   "codemirror_mode": {
    "name": "ipython",
    "version": 3
   },
   "file_extension": ".py",
   "mimetype": "text/x-python",
   "name": "python",
   "nbconvert_exporter": "python",
   "pygments_lexer": "ipython3",
   "version": "3.11.4"
  }
 },
 "nbformat": 4,
 "nbformat_minor": 5
}

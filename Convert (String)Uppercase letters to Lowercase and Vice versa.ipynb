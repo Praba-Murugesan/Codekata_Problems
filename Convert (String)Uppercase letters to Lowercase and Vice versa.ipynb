{
 "cells": [
  {
   "cell_type": "code",
   "execution_count": 1,
   "id": "be2365f7",
   "metadata": {},
   "outputs": [
    {
     "name": "stdout",
     "output_type": "stream",
     "text": [
      "CodeKAta\n",
      "cODEkaTA\n"
     ]
    }
   ],
   "source": [
    "S=input()\n",
    "l=[]\n",
    "for i in S:\n",
    "    if(i.isupper()):\n",
    "        c=i.lower()\n",
    "        l.append(c)\n",
    "    if(i.islower()):\n",
    "        c=i.upper()\n",
    "        l.append(c)\n",
    "print(''.join(l))\n",
    "    "
   ]
  },
  {
   "cell_type": "code",
   "execution_count": null,
   "id": "bf522da7",
   "metadata": {},
   "outputs": [],
   "source": []
  }
 ],
 "metadata": {
  "kernelspec": {
   "display_name": "Python 3 (ipykernel)",
   "language": "python",
   "name": "python3"
  },
  "language_info": {
   "codemirror_mode": {
    "name": "ipython",
    "version": 3
   },
   "file_extension": ".py",
   "mimetype": "text/x-python",
   "name": "python",
   "nbconvert_exporter": "python",
   "pygments_lexer": "ipython3",
   "version": "3.11.4"
  }
 },
 "nbformat": 4,
 "nbformat_minor": 5
}

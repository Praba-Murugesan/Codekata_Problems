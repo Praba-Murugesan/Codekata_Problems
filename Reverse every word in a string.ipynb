{
 "cells": [
  {
   "cell_type": "code",
   "execution_count": 1,
   "id": "c21cce6d-9b94-4e9e-ad65-7f4ae36dcad0",
   "metadata": {
    "tags": []
   },
   "outputs": [
    {
     "name": "stdin",
     "output_type": "stream",
     "text": [
      " hai hello\n"
     ]
    },
    {
     "name": "stdout",
     "output_type": "stream",
     "text": [
      "iah olleh\n"
     ]
    }
   ],
   "source": [
    "S=input().split()\n",
    "l=[]\n",
    "for i in range(0,len(S)):\n",
    "    l.append(S[i][::-1])\n",
    "print(*l)\n"
   ]
  },
  {
   "cell_type": "code",
   "execution_count": null,
   "id": "ce56333e-bf1f-493b-9b54-6ee8584c8cc5",
   "metadata": {},
   "outputs": [],
   "source": []
  }
 ],
 "metadata": {
  "kernelspec": {
   "display_name": "Python 3 (ipykernel)",
   "language": "python",
   "name": "python3"
  },
  "language_info": {
   "codemirror_mode": {
    "name": "ipython",
    "version": 3
   },
   "file_extension": ".py",
   "mimetype": "text/x-python",
   "name": "python",
   "nbconvert_exporter": "python",
   "pygments_lexer": "ipython3",
   "version": "3.11.4"
  }
 },
 "nbformat": 4,
 "nbformat_minor": 5
}

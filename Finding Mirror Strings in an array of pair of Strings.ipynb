{
 "cells": [
  {
   "cell_type": "code",
   "execution_count": 1,
   "id": "c8f57933",
   "metadata": {},
   "outputs": [
    {
     "name": "stdout",
     "output_type": "stream",
     "text": [
      "3\n",
      "hai hello\n",
      "say hi\n",
      "hello hai\n",
      "YES\n"
     ]
    }
   ],
   "source": [
    "N=int(input())\n",
    "l=[]\n",
    "for i in range(0,N):\n",
    "    (s1,s2)=list(map(str,input().split()))\n",
    "    l.append(s1)\n",
    "    l.append(s2)\n",
    "count=0    \n",
    "for i in range(0,len(l)-1,2):\n",
    "    for j in range(i+2,len(l),2):\n",
    "      if(l[i]==l[j+1] and l[i+1]==l[j]):\n",
    "        print('YES')\n",
    "        count=count+1\n",
    "        break\n",
    "if(count==0):\n",
    "  print('NO')\n",
    "        "
   ]
  },
  {
   "cell_type": "code",
   "execution_count": null,
   "id": "ca1bb884",
   "metadata": {},
   "outputs": [],
   "source": []
  }
 ],
 "metadata": {
  "kernelspec": {
   "display_name": "Python 3 (ipykernel)",
   "language": "python",
   "name": "python3"
  },
  "language_info": {
   "codemirror_mode": {
    "name": "ipython",
    "version": 3
   },
   "file_extension": ".py",
   "mimetype": "text/x-python",
   "name": "python",
   "nbconvert_exporter": "python",
   "pygments_lexer": "ipython3",
   "version": "3.11.4"
  }
 },
 "nbformat": 4,
 "nbformat_minor": 5
}

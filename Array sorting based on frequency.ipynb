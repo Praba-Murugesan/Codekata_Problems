{
 "cells": [
  {
   "cell_type": "code",
   "execution_count": 3,
   "id": "45f8bb81",
   "metadata": {},
   "outputs": [
    {
     "name": "stdout",
     "output_type": "stream",
     "text": [
      "5\n",
      "8 8 1 1 3\n",
      "3 1 1 8 8\n"
     ]
    }
   ],
   "source": [
    "import collections\n",
    "N=int(input())\n",
    "a=list(map(int,input().split()))\n",
    "l1=[]\n",
    "l=[]\n",
    "c=0\n",
    "i=0\n",
    "j=1\n",
    "a.sort()\n",
    "l1=a\n",
    "s=1\n",
    "dic = collections.Counter(a)\n",
    "# Printing resultant dictionary\n",
    "dict2={}\n",
    "dict2={k: v for k, v in sorted(dic.items(), key=lambda item: item[1])}\n",
    "l3=[]\n",
    "l4=[]\n",
    "l3=list(dict.fromkeys(dict2))   #l3,l4 converted keys values from dictionary\n",
    "l4=list(dict2.values())\n",
    "#making final output\n",
    "i=0\n",
    "j=0\n",
    "l5=[]\n",
    "while(i<len(l3)):\n",
    "  if(len(l3)==len(l4)):\n",
    "    h=l4[j]\n",
    "    for k in range(0,h):\n",
    "      l5.append(l3[i])\n",
    "    i=i+1\n",
    "    j=j+1\n",
    "print(*l5)"
   ]
  },
  {
   "cell_type": "code",
   "execution_count": null,
   "id": "6f66fa8b",
   "metadata": {},
   "outputs": [],
   "source": []
  }
 ],
 "metadata": {
  "kernelspec": {
   "display_name": "Python 3 (ipykernel)",
   "language": "python",
   "name": "python3"
  },
  "language_info": {
   "codemirror_mode": {
    "name": "ipython",
    "version": 3
   },
   "file_extension": ".py",
   "mimetype": "text/x-python",
   "name": "python",
   "nbconvert_exporter": "python",
   "pygments_lexer": "ipython3",
   "version": "3.11.4"
  }
 },
 "nbformat": 4,
 "nbformat_minor": 5
}

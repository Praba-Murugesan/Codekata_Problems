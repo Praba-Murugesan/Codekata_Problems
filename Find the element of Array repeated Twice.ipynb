{
 "cells": [
  {
   "cell_type": "code",
   "execution_count": 1,
   "id": "5e030b71",
   "metadata": {},
   "outputs": [
    {
     "name": "stdout",
     "output_type": "stream",
     "text": [
      "5\n",
      "13 12 13 12 13\n",
      "12\n"
     ]
    }
   ],
   "source": [
    "n=int(input())\n",
    "l=list(map(int,input().split()))\n",
    "s=[]\n",
    "m=[]\n",
    "for i in range(0,n):\n",
    "  count=0\n",
    "  for j in range(i,n):\n",
    "    if(l[i] not in m):     \n",
    "      if(l[i]==l[j]):\n",
    "        count=count+1\n",
    "  if(count==3):\n",
    "    m.append(l[i])\n",
    "  if(count==2):\n",
    "    s.append(l[i])\n",
    "print(*s)\n"
   ]
  }
 ],
 "metadata": {
  "kernelspec": {
   "display_name": "Python 3 (ipykernel)",
   "language": "python",
   "name": "python3"
  },
  "language_info": {
   "codemirror_mode": {
    "name": "ipython",
    "version": 3
   },
   "file_extension": ".py",
   "mimetype": "text/x-python",
   "name": "python",
   "nbconvert_exporter": "python",
   "pygments_lexer": "ipython3",
   "version": "3.11.4"
  }
 },
 "nbformat": 4,
 "nbformat_minor": 5
}

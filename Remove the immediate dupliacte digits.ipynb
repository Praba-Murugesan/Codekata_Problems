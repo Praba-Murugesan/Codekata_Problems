{
 "cells": [
  {
   "cell_type": "code",
   "execution_count": 1,
   "id": "da939957-7550-4a82-8432-88aa90ffd63e",
   "metadata": {
    "tags": []
   },
   "outputs": [
    {
     "name": "stdin",
     "output_type": "stream",
     "text": [
      " 1331\n"
     ]
    },
    {
     "name": "stdout",
     "output_type": "stream",
     "text": [
      "11\n"
     ]
    }
   ],
   "source": [
    "a=int(input())\n",
    "s=0\n",
    "r=0\n",
    "d=a\n",
    "l=[]\n",
    "while(a>0):\n",
    "  r1=a%10\n",
    "  a=a//10\n",
    "  m=a\n",
    "  r2=m%10\n",
    "  if(r1!=r2):\n",
    "    l.append(r1)\n",
    "  else:\n",
    "    a=a//10\n",
    "if(len(l)!=0):\n",
    "  l.reverse()\n",
    "  m=map(str,l)\n",
    "  print(\"\".join(m))\n",
    "else:\n",
    "  print(-1)"
   ]
  },
  {
   "cell_type": "code",
   "execution_count": null,
   "id": "57dd02dd-5aae-43ae-8681-2326268931da",
   "metadata": {},
   "outputs": [],
   "source": []
  }
 ],
 "metadata": {
  "kernelspec": {
   "display_name": "Python 3 (ipykernel)",
   "language": "python",
   "name": "python3"
  },
  "language_info": {
   "codemirror_mode": {
    "name": "ipython",
    "version": 3
   },
   "file_extension": ".py",
   "mimetype": "text/x-python",
   "name": "python",
   "nbconvert_exporter": "python",
   "pygments_lexer": "ipython3",
   "version": "3.11.4"
  }
 },
 "nbformat": 4,
 "nbformat_minor": 5
}

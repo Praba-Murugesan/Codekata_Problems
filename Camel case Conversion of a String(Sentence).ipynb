{
 "cells": [
  {
   "cell_type": "code",
   "execution_count": 1,
   "id": "8e66314e",
   "metadata": {},
   "outputs": [
    {
     "name": "stdout",
     "output_type": "stream",
     "text": [
      "guvi geeks-code_kata\n",
      "GuviGeeksCodeKata\n"
     ]
    }
   ],
   "source": [
    "s=input()\n",
    "l=[]\n",
    "l.append(s[0].upper())\n",
    "i=1\n",
    "while(i<len(s)):\n",
    "    count=0\n",
    "    if(s[i]==' ' or s[i]=='-' or s[i]=='_'):\n",
    "        l.append(s[i+1].upper())\n",
    "        i=i+2\n",
    "    elif(s[i].isalnum()):\n",
    "        l.append(s[i])\n",
    "        i=i+1 \n",
    "print(''.join(l))   \n",
    "        "
   ]
  },
  {
   "cell_type": "code",
   "execution_count": null,
   "id": "fcf2d80e",
   "metadata": {},
   "outputs": [],
   "source": []
  }
 ],
 "metadata": {
  "kernelspec": {
   "display_name": "Python 3 (ipykernel)",
   "language": "python",
   "name": "python3"
  },
  "language_info": {
   "codemirror_mode": {
    "name": "ipython",
    "version": 3
   },
   "file_extension": ".py",
   "mimetype": "text/x-python",
   "name": "python",
   "nbconvert_exporter": "python",
   "pygments_lexer": "ipython3",
   "version": "3.11.4"
  }
 },
 "nbformat": 4,
 "nbformat_minor": 5
}

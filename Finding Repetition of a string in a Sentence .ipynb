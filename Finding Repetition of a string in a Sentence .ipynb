{
 "cells": [
  {
   "cell_type": "code",
   "execution_count": 1,
   "id": "bda9c260",
   "metadata": {},
   "outputs": [
    {
     "name": "stdout",
     "output_type": "stream",
     "text": [
      "I enjoy doing codekata\n",
      "codekata\n",
      "1\n"
     ]
    }
   ],
   "source": [
    "sen=input().split()\n",
    "S=input()\n",
    "count=0\n",
    "for i in range(0,len(sen)):\n",
    "    if(sen[i]==S):\n",
    "      count=count+1\n",
    "      h=count\n",
    "\n",
    "if(count==0):\n",
    "    print(-1)\n",
    "else:\n",
    "  print(h)"
   ]
  },
  {
   "cell_type": "code",
   "execution_count": null,
   "id": "6c77dd1b",
   "metadata": {},
   "outputs": [],
   "source": []
  }
 ],
 "metadata": {
  "kernelspec": {
   "display_name": "Python 3 (ipykernel)",
   "language": "python",
   "name": "python3"
  },
  "language_info": {
   "codemirror_mode": {
    "name": "ipython",
    "version": 3
   },
   "file_extension": ".py",
   "mimetype": "text/x-python",
   "name": "python",
   "nbconvert_exporter": "python",
   "pygments_lexer": "ipython3",
   "version": "3.11.4"
  }
 },
 "nbformat": 4,
 "nbformat_minor": 5
}

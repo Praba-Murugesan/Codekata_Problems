{
 "cells": [
  {
   "cell_type": "code",
   "execution_count": 1,
   "id": "09a49415-2360-4589-9862-4799766f4705",
   "metadata": {
    "tags": []
   },
   "outputs": [
    {
     "name": "stdin",
     "output_type": "stream",
     "text": [
      " codekata a\n"
     ]
    },
    {
     "name": "stdout",
     "output_type": "stream",
     "text": [
      "2\n"
     ]
    }
   ],
   "source": [
    "S,K=list(map(str,input().split()))\n",
    "count=0\n",
    "for i in range(0,len(S)):\n",
    "    if(S[i]==K):\n",
    "        count=count+1\n",
    "if(count>0):\n",
    "    print(count)\n",
    "elif(count==0):\n",
    "    print('-1')"
   ]
  },
  {
   "cell_type": "code",
   "execution_count": null,
   "id": "4832c77d-5fbd-4d1d-a7ba-25850fe9c47a",
   "metadata": {},
   "outputs": [],
   "source": []
  }
 ],
 "metadata": {
  "kernelspec": {
   "display_name": "Python 3 (ipykernel)",
   "language": "python",
   "name": "python3"
  },
  "language_info": {
   "codemirror_mode": {
    "name": "ipython",
    "version": 3
   },
   "file_extension": ".py",
   "mimetype": "text/x-python",
   "name": "python",
   "nbconvert_exporter": "python",
   "pygments_lexer": "ipython3",
   "version": "3.11.4"
  }
 },
 "nbformat": 4,
 "nbformat_minor": 5
}

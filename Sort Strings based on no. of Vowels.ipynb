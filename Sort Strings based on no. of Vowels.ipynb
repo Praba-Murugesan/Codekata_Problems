{
 "cells": [
  {
   "cell_type": "code",
   "execution_count": 7,
   "id": "0c43e5b7-712f-4877-b22f-2d90028aab57",
   "metadata": {
    "tags": []
   },
   "outputs": [
    {
     "name": "stdin",
     "output_type": "stream",
     "text": [
      " 3\n",
      " vishal\n",
      " aae\n",
      " ae\n"
     ]
    },
    {
     "name": "stdout",
     "output_type": "stream",
     "text": [
      "aae\n",
      "vishal\n",
      "ae\n"
     ]
    }
   ],
   "source": [
    "N=int(input())\n",
    "l=[]\n",
    "l2=[]\n",
    "l1=['a','e','i','o','u']\n",
    "for i in range(0,N):\n",
    "    s=input()\n",
    "    l.append(s)\n",
    "for i in range(0,len(l)):\n",
    "    count=0\n",
    "    for j in range(len(l[i])):\n",
    "        if(l[i][j] in l1):\n",
    "            count=count+1\n",
    "    l2.append(count)\n",
    "for i in range(0,len(l2)-1):\n",
    "    for j in range(i+1,len(l2)):\n",
    "        if(l2[i]<l2[j]):\n",
    "            t1=l2[i]\n",
    "            t2=l[i]\n",
    "            l2[i]=l2[j]\n",
    "            l[i]=l[j]\n",
    "            l2[j]=t1\n",
    "            l[j]=t2\n",
    "for i in range(0,len(l)):\n",
    "    print(''.join(l[i])) "
   ]
  },
  {
   "cell_type": "code",
   "execution_count": null,
   "id": "556604f4-87bf-4b1a-8c2e-14aa74df1a26",
   "metadata": {},
   "outputs": [],
   "source": []
  }
 ],
 "metadata": {
  "kernelspec": {
   "display_name": "Python 3 (ipykernel)",
   "language": "python",
   "name": "python3"
  },
  "language_info": {
   "codemirror_mode": {
    "name": "ipython",
    "version": 3
   },
   "file_extension": ".py",
   "mimetype": "text/x-python",
   "name": "python",
   "nbconvert_exporter": "python",
   "pygments_lexer": "ipython3",
   "version": "3.11.4"
  }
 },
 "nbformat": 4,
 "nbformat_minor": 5
}

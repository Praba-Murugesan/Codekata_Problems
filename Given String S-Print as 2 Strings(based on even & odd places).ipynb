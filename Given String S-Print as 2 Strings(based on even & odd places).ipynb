{
 "cells": [
  {
   "cell_type": "code",
   "execution_count": 1,
   "id": "d8b1c29a",
   "metadata": {},
   "outputs": [
    {
     "name": "stdout",
     "output_type": "stream",
     "text": [
      "XCODE\n",
      "XOE CD\n"
     ]
    }
   ],
   "source": [
    "S=input()\n",
    "l=[]\n",
    "for i in range(0,len(S)):\n",
    "    if(i%2==0):\n",
    "        l.append(S[i])\n",
    "l.append(' ')\n",
    "for i in range(0,len(S)):\n",
    "    if(i%2!=0):\n",
    "        l.append(S[i])\n",
    "print(''.join(l))    \n",
    "     "
   ]
  },
  {
   "cell_type": "code",
   "execution_count": null,
   "id": "6b23855f",
   "metadata": {},
   "outputs": [],
   "source": []
  }
 ],
 "metadata": {
  "kernelspec": {
   "display_name": "Python 3 (ipykernel)",
   "language": "python",
   "name": "python3"
  },
  "language_info": {
   "codemirror_mode": {
    "name": "ipython",
    "version": 3
   },
   "file_extension": ".py",
   "mimetype": "text/x-python",
   "name": "python",
   "nbconvert_exporter": "python",
   "pygments_lexer": "ipython3",
   "version": "3.11.4"
  }
 },
 "nbformat": 4,
 "nbformat_minor": 5
}

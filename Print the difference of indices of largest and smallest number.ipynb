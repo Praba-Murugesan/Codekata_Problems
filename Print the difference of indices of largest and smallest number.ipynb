{
 "cells": [
  {
   "cell_type": "code",
   "execution_count": 1,
   "id": "5bac8d43",
   "metadata": {},
   "outputs": [
    {
     "name": "stdout",
     "output_type": "stream",
     "text": [
      "5\n",
      "1 6 4 0 3\n",
      "-2\n"
     ]
    }
   ],
   "source": [
    "n=int(input())\n",
    "l=list(map(int,input().split()))\n",
    "large=0\n",
    "small=0\n",
    "c=max(l)\n",
    "d=min(l)\n",
    "for i in range(0,n):\n",
    "  if(c==l[i]):\n",
    "    large=i\n",
    "  elif(d==l[i]):\n",
    "    small=i\n",
    "print(large-small)"
   ]
  },
  {
   "cell_type": "code",
   "execution_count": null,
   "id": "00104696",
   "metadata": {},
   "outputs": [],
   "source": []
  }
 ],
 "metadata": {
  "kernelspec": {
   "display_name": "Python 3 (ipykernel)",
   "language": "python",
   "name": "python3"
  },
  "language_info": {
   "codemirror_mode": {
    "name": "ipython",
    "version": 3
   },
   "file_extension": ".py",
   "mimetype": "text/x-python",
   "name": "python",
   "nbconvert_exporter": "python",
   "pygments_lexer": "ipython3",
   "version": "3.11.4"
  }
 },
 "nbformat": 4,
 "nbformat_minor": 5
}

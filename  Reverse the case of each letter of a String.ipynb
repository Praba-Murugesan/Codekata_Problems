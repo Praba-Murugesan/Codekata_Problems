{
 "cells": [
  {
   "cell_type": "code",
   "execution_count": null,
   "id": "eb1a6a0a-1cd3-4623-b567-c9acc5c3ba71",
   "metadata": {},
   "outputs": [],
   "source": [
    "S=input()\n",
    "l=[]\n",
    "if(len(S)<=100):\n",
    "    for i in range(0,len(S)):\n",
    "        if(S[i].isupper()):\n",
    "            l.append(S[i].lower())\n",
    "        elif(S[i].islower()):\n",
    "            l.append(S[i].upper())\n",
    "        else:\n",
    "            l.append(S[i])\n",
    "print(''.join(l))\n"
   ]
  }
 ],
 "metadata": {
  "kernelspec": {
   "display_name": "Python 3 (ipykernel)",
   "language": "python",
   "name": "python3"
  },
  "language_info": {
   "codemirror_mode": {
    "name": "ipython",
    "version": 3
   },
   "file_extension": ".py",
   "mimetype": "text/x-python",
   "name": "python",
   "nbconvert_exporter": "python",
   "pygments_lexer": "ipython3",
   "version": "3.11.4"
  }
 },
 "nbformat": 4,
 "nbformat_minor": 5
}

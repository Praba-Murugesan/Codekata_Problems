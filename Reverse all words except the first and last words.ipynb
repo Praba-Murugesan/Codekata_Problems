{
 "cells": [
  {
   "cell_type": "code",
   "execution_count": 3,
   "id": "96bfff52",
   "metadata": {},
   "outputs": [
    {
     "name": "stdout",
     "output_type": "stream",
     "text": [
      "hai hello how are you\n",
      "hai olleh woh era you\n"
     ]
    }
   ],
   "source": [
    "s=input().split()\n",
    "l=[]\n",
    "for i in range(0,len(s)):\n",
    "    if(i==0 or i==len(s)-1):\n",
    "        l.append(s[i])\n",
    "    else:\n",
    "        l.append(s[i][::-1])\n",
    "print(*l) "
   ]
  },
  {
   "cell_type": "code",
   "execution_count": null,
   "id": "cea3f94a",
   "metadata": {},
   "outputs": [],
   "source": []
  }
 ],
 "metadata": {
  "kernelspec": {
   "display_name": "Python 3 (ipykernel)",
   "language": "python",
   "name": "python3"
  },
  "language_info": {
   "codemirror_mode": {
    "name": "ipython",
    "version": 3
   },
   "file_extension": ".py",
   "mimetype": "text/x-python",
   "name": "python",
   "nbconvert_exporter": "python",
   "pygments_lexer": "ipython3",
   "version": "3.11.4"
  }
 },
 "nbformat": 4,
 "nbformat_minor": 5
}

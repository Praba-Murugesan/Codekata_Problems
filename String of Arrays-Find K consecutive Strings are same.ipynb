{
 "cells": [
  {
   "cell_type": "code",
   "execution_count": 1,
   "id": "fbf85d77",
   "metadata": {},
   "outputs": [
    {
     "name": "stdout",
     "output_type": "stream",
     "text": [
      "5 3\n",
      "code\n",
      "hai\n",
      "hai\n",
      "hai\n",
      "hello\n",
      "yes\n"
     ]
    }
   ],
   "source": [
    "N,K=list(map(int,input().split()))\n",
    "l=[]\n",
    "c=0\n",
    "for i in range(0,N):\n",
    "    s=input().split()\n",
    "    l.append(s)\n",
    "for i in range(0,N-1):\n",
    "    if(l[i]==l[i+1]):\n",
    "      c=c+1\n",
    "if(c+1==K):\n",
    "    print('yes')\n",
    "else:\n",
    "    print('no') "
   ]
  },
  {
   "cell_type": "code",
   "execution_count": null,
   "id": "83a544ab",
   "metadata": {},
   "outputs": [],
   "source": []
  }
 ],
 "metadata": {
  "kernelspec": {
   "display_name": "Python 3 (ipykernel)",
   "language": "python",
   "name": "python3"
  },
  "language_info": {
   "codemirror_mode": {
    "name": "ipython",
    "version": 3
   },
   "file_extension": ".py",
   "mimetype": "text/x-python",
   "name": "python",
   "nbconvert_exporter": "python",
   "pygments_lexer": "ipython3",
   "version": "3.11.4"
  }
 },
 "nbformat": 4,
 "nbformat_minor": 5
}

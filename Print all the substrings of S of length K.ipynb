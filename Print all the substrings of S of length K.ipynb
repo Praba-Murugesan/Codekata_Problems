{
 "cells": [
  {
   "cell_type": "code",
   "execution_count": 24,
   "id": "79c7078c-f0f7-4de4-82d4-c82fe1b015eb",
   "metadata": {
    "tags": []
   },
   "outputs": [
    {
     "name": "stdin",
     "output_type": "stream",
     "text": [
      " prog 2\n"
     ]
    },
    {
     "name": "stdout",
     "output_type": "stream",
     "text": [
      "pr ro og\n",
      "\n"
     ]
    }
   ],
   "source": [
    "S,K=list(map(str,input().split()))\n",
    "k=int(K)\n",
    "\n",
    "c=[]\n",
    "m=[]\n",
    "for i in range(0,len(S)):\n",
    "    l=[]\n",
    "    if(i<(len(S)-k+1)):\n",
    "        for j in range(i,i+k):\n",
    "            l.append(S[j])\n",
    "        c=''.join(l)\n",
    "        m.append(c)\n",
    "print(*m)\n",
    "\n",
    "    "
   ]
  },
  {
   "cell_type": "code",
   "execution_count": null,
   "id": "56d7a03a-7762-4f6e-a6b3-cbd110a70a7f",
   "metadata": {},
   "outputs": [],
   "source": []
  }
 ],
 "metadata": {
  "kernelspec": {
   "display_name": "Python 3 (ipykernel)",
   "language": "python",
   "name": "python3"
  },
  "language_info": {
   "codemirror_mode": {
    "name": "ipython",
    "version": 3
   },
   "file_extension": ".py",
   "mimetype": "text/x-python",
   "name": "python",
   "nbconvert_exporter": "python",
   "pygments_lexer": "ipython3",
   "version": "3.11.4"
  }
 },
 "nbformat": 4,
 "nbformat_minor": 5
}

{
 "cells": [
  {
   "cell_type": "code",
   "execution_count": null,
   "id": "72953bef-eb46-4e20-9ead-29cc196f955e",
   "metadata": {},
   "outputs": [],
   "source": [
    "S=input().split()\n",
    "for i in range(0,len(S)):\n",
    "    if(S[i]=='and' and i<len(S)-1):\n",
    "        c=S[i-1]\n",
    "        S[i-1]=S[i+1]\n",
    "        S[i+1]=c\n",
    "print(*S)"
   ]
  }
 ],
 "metadata": {
  "kernelspec": {
   "display_name": "Python 3 (ipykernel)",
   "language": "python",
   "name": "python3"
  },
  "language_info": {
   "codemirror_mode": {
    "name": "ipython",
    "version": 3
   },
   "file_extension": ".py",
   "mimetype": "text/x-python",
   "name": "python",
   "nbconvert_exporter": "python",
   "pygments_lexer": "ipython3",
   "version": "3.11.4"
  }
 },
 "nbformat": 4,
 "nbformat_minor": 5
}

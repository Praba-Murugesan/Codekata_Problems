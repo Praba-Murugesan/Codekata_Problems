{
 "cells": [
  {
   "cell_type": "code",
   "execution_count": 1,
   "id": "d8dc1df4",
   "metadata": {},
   "outputs": [
    {
     "name": "stdout",
     "output_type": "stream",
     "text": [
      "5 2\n",
      "1 1 2 4 5\n",
      "2\n"
     ]
    }
   ],
   "source": [
    "N,K=list(map(int,input().split()))\n",
    "l=list(map(int,input().split()))\n",
    "l=list(dict.fromkeys(l))\n",
    "l.sort()\n",
    "if(len(l)==1 or len(l)==0 or K>len(l)):\n",
    "    print('-1')\n",
    "else:\n",
    "    print(l[K-1])"
   ]
  },
  {
   "cell_type": "code",
   "execution_count": null,
   "id": "927046eb",
   "metadata": {},
   "outputs": [],
   "source": []
  }
 ],
 "metadata": {
  "kernelspec": {
   "display_name": "Python 3 (ipykernel)",
   "language": "python",
   "name": "python3"
  },
  "language_info": {
   "codemirror_mode": {
    "name": "ipython",
    "version": 3
   },
   "file_extension": ".py",
   "mimetype": "text/x-python",
   "name": "python",
   "nbconvert_exporter": "python",
   "pygments_lexer": "ipython3",
   "version": "3.11.4"
  }
 },
 "nbformat": 4,
 "nbformat_minor": 5
}

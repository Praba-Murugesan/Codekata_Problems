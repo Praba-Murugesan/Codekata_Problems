{
 "cells": [
  {
   "cell_type": "code",
   "execution_count": 39,
   "id": "e396d910-35ac-4fbf-8c1b-2c6a98fcdea3",
   "metadata": {
    "tags": []
   },
   "outputs": [
    {
     "name": "stdin",
     "output_type": "stream",
     "text": [
      " 123 3\n"
     ]
    },
    {
     "name": "stdout",
     "output_type": "stream",
     "text": [
      "no\n"
     ]
    }
   ],
   "source": [
    "N,K=list(map(int,input().split()))\n",
    "l=[]\n",
    "m=[]\n",
    "d=[]\n",
    "n=str(N)\n",
    "for i in range(0,len(n)):\n",
    "    m.append(int(n[i]))\n",
    "for i in range(0,K+1):\n",
    "    l.append(i)\n",
    "    d.append(i)\n",
    "\n",
    "\n",
    "c=0\n",
    "for i in l:\n",
    "    if i not in m:\n",
    "        c=1\n",
    " \n",
    "        \n",
    "if(c!=1):\n",
    "    print('yes')\n",
    "else:\n",
    "    print('no')"
   ]
  },
  {
   "cell_type": "code",
   "execution_count": null,
   "id": "a0b17eb8-6704-477c-98d9-9691f92e693c",
   "metadata": {},
   "outputs": [],
   "source": []
  }
 ],
 "metadata": {
  "kernelspec": {
   "display_name": "Python 3 (ipykernel)",
   "language": "python",
   "name": "python3"
  },
  "language_info": {
   "codemirror_mode": {
    "name": "ipython",
    "version": 3
   },
   "file_extension": ".py",
   "mimetype": "text/x-python",
   "name": "python",
   "nbconvert_exporter": "python",
   "pygments_lexer": "ipython3",
   "version": "3.11.4"
  }
 },
 "nbformat": 4,
 "nbformat_minor": 5
}

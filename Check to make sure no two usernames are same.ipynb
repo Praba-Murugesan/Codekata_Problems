{
 "cells": [
  {
   "cell_type": "code",
   "execution_count": 17,
   "id": "6cd42cd4-83a4-446f-b367-f27c716bd037",
   "metadata": {
    "tags": []
   },
   "outputs": [
    {
     "name": "stdin",
     "output_type": "stream",
     "text": [
      " 4\n",
      " aab abc abc aba\n"
     ]
    },
    {
     "name": "stdout",
     "output_type": "stream",
     "text": [
      "Verified Verified abc1 aba\n"
     ]
    }
   ],
   "source": [
    "N=int(input())\n",
    "l=list(map(str,input().split()))\n",
    "\n",
    "s=[]\n",
    "m=[]\n",
    "for i in range(0,len(l)):\n",
    "    if(i==len(l)-1 and l[i] not in m):\n",
    "        s.append(l[i])\n",
    "    if(l[i] in m):\n",
    "        l[i].strip()\n",
    "        s.append(l[i]+'1')\n",
    "    else:\n",
    "        c=0\n",
    "        for j in range(i+1,len(l)):\n",
    "            if(sorted(l[i])==sorted(l[j])):\n",
    "                s.append(\"Verified\")\n",
    "                m.append(l[i])\n",
    "                c=c+1\n",
    "        if(c==0 and i!=len(l)-1):\n",
    "            s.append(\"Verified\")\n",
    "            m.append(l[i])\n",
    "    \n",
    "print(*s)\n",
    "\n",
    "        \n",
    "    \n",
    "\n"
   ]
  },
  {
   "cell_type": "code",
   "execution_count": null,
   "id": "2b627ed5-3d08-44cf-81c2-d255619fff96",
   "metadata": {},
   "outputs": [],
   "source": []
  }
 ],
 "metadata": {
  "kernelspec": {
   "display_name": "Python 3 (ipykernel)",
   "language": "python",
   "name": "python3"
  },
  "language_info": {
   "codemirror_mode": {
    "name": "ipython",
    "version": 3
   },
   "file_extension": ".py",
   "mimetype": "text/x-python",
   "name": "python",
   "nbconvert_exporter": "python",
   "pygments_lexer": "ipython3",
   "version": "3.11.4"
  }
 },
 "nbformat": 4,
 "nbformat_minor": 5
}

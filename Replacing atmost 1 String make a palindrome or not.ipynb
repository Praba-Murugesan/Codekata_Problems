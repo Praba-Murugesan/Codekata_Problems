{
 "cells": [
  {
   "cell_type": "code",
   "execution_count": 19,
   "id": "11191291-17f4-4847-95ff-99f8b9c7773c",
   "metadata": {
    "tags": []
   },
   "outputs": [
    {
     "name": "stdin",
     "output_type": "stream",
     "text": [
      " abb\n"
     ]
    },
    {
     "name": "stdout",
     "output_type": "stream",
     "text": [
      "yes\n"
     ]
    }
   ],
   "source": [
    "s=input()\n",
    "n=len(s)\n",
    "S=list(s)\n",
    "count=0\n",
    "c=0\n",
    "for i in range(0,len(S)-1):\n",
    "    for j in range(i+1,len(S)):\n",
    "        t=S[i]\n",
    "        S[i]=S[j]\n",
    "        S[j]=t \n",
    "        if(S==S[::-1]):\n",
    "            count=1\n",
    "            break\n",
    "        else:\n",
    "            t=S[j]\n",
    "            S[j]=S[i]   \n",
    "            S[i]=t \n",
    "for i in range(0, int(n / 2)) :\n",
    "    if (s[i] != s[n - i - 1]) :\n",
    "            c = c + 1      \n",
    "if(s==s[::-1] or count==1 or c<=1):\n",
    "    print('yes')\n",
    "else:\n",
    "    print('no')"
   ]
  },
  {
   "cell_type": "code",
   "execution_count": null,
   "id": "b76fdae7-5dfd-4049-86b1-11c5cb3eb9be",
   "metadata": {},
   "outputs": [],
   "source": []
  },
  {
   "cell_type": "code",
   "execution_count": null,
   "id": "9a4b00d2-2894-47d9-9454-665352241498",
   "metadata": {},
   "outputs": [],
   "source": []
  }
 ],
 "metadata": {
  "kernelspec": {
   "display_name": "Python 3 (ipykernel)",
   "language": "python",
   "name": "python3"
  },
  "language_info": {
   "codemirror_mode": {
    "name": "ipython",
    "version": 3
   },
   "file_extension": ".py",
   "mimetype": "text/x-python",
   "name": "python",
   "nbconvert_exporter": "python",
   "pygments_lexer": "ipython3",
   "version": "3.11.4"
  }
 },
 "nbformat": 4,
 "nbformat_minor": 5
}

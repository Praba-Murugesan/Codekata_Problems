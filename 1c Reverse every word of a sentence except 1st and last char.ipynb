{
 "cells": [
  {
   "cell_type": "code",
   "execution_count": 1,
   "id": "939c50dc",
   "metadata": {},
   "outputs": [
    {
     "name": "stdout",
     "output_type": "stream",
     "text": [
      "this is python programming\n",
      "tihs is pohtyn pnimmargorg\n"
     ]
    }
   ],
   "source": [
    "def reverseWord(Str):\n",
    "    i = 1\n",
    "    j = len(Str) - 2\n",
    "    while (i < j):\n",
    " \n",
    "        # Swap Str[i] and Str[j]\n",
    "        temp = Str[i]\n",
    "        Str[i] = Str[j]\n",
    "        Str[j] = temp\n",
    "        i += 1\n",
    "        j -= 1\n",
    "    return \"\".join(Str)\n",
    "\n",
    "def Words(Str):\n",
    "    Str = Str.split()\n",
    "    l=[]\n",
    "    for i in Str:\n",
    "        \n",
    "        # Print reversed word using list comprehension to get individual characters\n",
    "        j = [h for h in i]   \n",
    "        l.append(reverseWord(j))\n",
    "    print(*l)\n",
    "\n",
    "Str=input()\n",
    "Words(Str)   \n"
   ]
  },
  {
   "cell_type": "code",
   "execution_count": null,
   "id": "056b792e",
   "metadata": {},
   "outputs": [],
   "source": []
  }
 ],
 "metadata": {
  "kernelspec": {
   "display_name": "Python 3 (ipykernel)",
   "language": "python",
   "name": "python3"
  },
  "language_info": {
   "codemirror_mode": {
    "name": "ipython",
    "version": 3
   },
   "file_extension": ".py",
   "mimetype": "text/x-python",
   "name": "python",
   "nbconvert_exporter": "python",
   "pygments_lexer": "ipython3",
   "version": "3.11.4"
  }
 },
 "nbformat": 4,
 "nbformat_minor": 5
}

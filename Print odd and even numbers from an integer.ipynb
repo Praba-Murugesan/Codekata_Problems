{
 "cells": [
  {
   "cell_type": "code",
   "execution_count": 1,
   "id": "746dc948",
   "metadata": {},
   "outputs": [
    {
     "name": "stdout",
     "output_type": "stream",
     "text": [
      "1234\n",
      "2 4\n",
      "1 3\n"
     ]
    }
   ],
   "source": [
    "a=input()\n",
    "even = [] \n",
    "odd = [] \n",
    "for i in (a):\n",
    "    if int (i)%2: \n",
    "        odd.append (int(i)) \n",
    "    else: \n",
    "        even.append (int(i)) \n",
    "print (*(sorted(even))) \n",
    "print (*(sorted(odd)))\n"
   ]
  },
  {
   "cell_type": "code",
   "execution_count": null,
   "id": "98ad15b2",
   "metadata": {},
   "outputs": [],
   "source": []
  }
 ],
 "metadata": {
  "kernelspec": {
   "display_name": "Python 3 (ipykernel)",
   "language": "python",
   "name": "python3"
  },
  "language_info": {
   "codemirror_mode": {
    "name": "ipython",
    "version": 3
   },
   "file_extension": ".py",
   "mimetype": "text/x-python",
   "name": "python",
   "nbconvert_exporter": "python",
   "pygments_lexer": "ipython3",
   "version": "3.11.4"
  }
 },
 "nbformat": 4,
 "nbformat_minor": 5
}

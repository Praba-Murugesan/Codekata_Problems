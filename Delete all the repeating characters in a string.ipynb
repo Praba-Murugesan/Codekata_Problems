{
 "cells": [
  {
   "cell_type": "code",
   "execution_count": 1,
   "id": "5b810bbb-4c78-48f4-b297-b1a624123b04",
   "metadata": {
    "tags": []
   },
   "outputs": [
    {
     "name": "stdin",
     "output_type": "stream",
     "text": [
      " mississipie\n"
     ]
    },
    {
     "name": "stdout",
     "output_type": "stream",
     "text": [
      "mpe\n"
     ]
    }
   ],
   "source": [
    "s=input()\n",
    "l=[]\n",
    "count=0\n",
    "l2=[]\n",
    "for i in range(0,len(s)):\n",
    "    count=0\n",
    "    h=i\n",
    "    for j in range(i+1,len(s)):\n",
    "        k=j\n",
    "        \n",
    "        if(s[i]==s[j]):\n",
    "          count=count+1\n",
    "          l.append(s[i])\n",
    "          break\n",
    "    if((s[i]!=s[k]) and (s[i] not in l) and count==0):\n",
    "      l2.append(s[i])\n",
    "if((k==len(s)-1 and h==len(s)-1) and (s[h]==s[k]) and (s[i] not in l) and count==0):\n",
    "  l2.append(s[h])\n",
    "\n",
    " \n",
    "print(''.join(l2))"
   ]
  },
  {
   "cell_type": "code",
   "execution_count": null,
   "id": "0d6680c3-838c-4e84-adde-a3a72f9cd7c4",
   "metadata": {},
   "outputs": [],
   "source": []
  }
 ],
 "metadata": {
  "kernelspec": {
   "display_name": "Python 3 (ipykernel)",
   "language": "python",
   "name": "python3"
  },
  "language_info": {
   "codemirror_mode": {
    "name": "ipython",
    "version": 3
   },
   "file_extension": ".py",
   "mimetype": "text/x-python",
   "name": "python",
   "nbconvert_exporter": "python",
   "pygments_lexer": "ipython3",
   "version": "3.11.4"
  }
 },
 "nbformat": 4,
 "nbformat_minor": 5
}

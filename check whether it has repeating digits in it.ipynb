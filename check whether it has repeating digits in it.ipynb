{
 "cells": [
  {
   "cell_type": "code",
   "execution_count": null,
   "id": "1bf3c623-076a-4c71-a239-7367f43e9111",
   "metadata": {},
   "outputs": [],
   "source": [
    "N=str(input())\n",
    "count=0\n",
    "c=0\n",
    "for i in N:\n",
    "  c=c+1\n",
    "for i in range(0,c):\n",
    "        for j in range(i+1,len(N)):\n",
    "            if(N[i]==N[j]):\n",
    "                count=1\n",
    "                break\n",
    "if(count==1):    \n",
    "    print('yes')\n",
    "else:\n",
    "    print('no')"
   ]
  }
 ],
 "metadata": {
  "kernelspec": {
   "display_name": "Python 3 (ipykernel)",
   "language": "python",
   "name": "python3"
  },
  "language_info": {
   "codemirror_mode": {
    "name": "ipython",
    "version": 3
   },
   "file_extension": ".py",
   "mimetype": "text/x-python",
   "name": "python",
   "nbconvert_exporter": "python",
   "pygments_lexer": "ipython3",
   "version": "3.11.4"
  }
 },
 "nbformat": 4,
 "nbformat_minor": 5
}

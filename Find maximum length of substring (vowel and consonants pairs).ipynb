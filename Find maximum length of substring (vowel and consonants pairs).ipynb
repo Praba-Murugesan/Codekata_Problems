{
 "cells": [
  {
   "cell_type": "code",
   "execution_count": 20,
   "id": "00210c67",
   "metadata": {},
   "outputs": [
    {
     "name": "stdout",
     "output_type": "stream",
     "text": [
      "abiboa\n",
      "5\n"
     ]
    }
   ],
   "source": [
    "S=input()\n",
    "c=['a','e','i','o','u']\n",
    "d=['b','c','d','f','g','h','j','k','l','m','n','p','q','r','s','t','v','w','x','y','z']\n",
    "l=[]\n",
    "maxi=1\n",
    "b=1\n",
    "for i in range(0,len(S)-1):\n",
    "    if((S[i] in d) and (S[i+1] in c)):\n",
    "        maxi=maxi+1\n",
    "    if((S[i] in c) and (S[i+1] in d)):\n",
    "        maxi=maxi+1\n",
    "    if((S[i] in d) and (S[i+1] in d)):\n",
    "        continue\n",
    "    if((S[i] in c) and (S[i+1] in c)):\n",
    "        b=b+1\n",
    "        continue\n",
    "if(b==len(S)):\n",
    "    print('0') \n",
    "else:\n",
    "    print(maxi)\n",
    "      "
   ]
  },
  {
   "cell_type": "code",
   "execution_count": null,
   "id": "f68a0eef",
   "metadata": {},
   "outputs": [],
   "source": []
  },
  {
   "cell_type": "code",
   "execution_count": null,
   "id": "fc4dc34a",
   "metadata": {},
   "outputs": [],
   "source": []
  }
 ],
 "metadata": {
  "kernelspec": {
   "display_name": "Python 3 (ipykernel)",
   "language": "python",
   "name": "python3"
  },
  "language_info": {
   "codemirror_mode": {
    "name": "ipython",
    "version": 3
   },
   "file_extension": ".py",
   "mimetype": "text/x-python",
   "name": "python",
   "nbconvert_exporter": "python",
   "pygments_lexer": "ipython3",
   "version": "3.11.4"
  }
 },
 "nbformat": 4,
 "nbformat_minor": 5
}

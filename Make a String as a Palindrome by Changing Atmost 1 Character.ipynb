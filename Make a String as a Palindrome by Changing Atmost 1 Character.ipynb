{
 "cells": [
  {
   "cell_type": "code",
   "execution_count": 4,
   "id": "4e0ef108-966f-4ec9-b23f-530ec2818949",
   "metadata": {
    "tags": []
   },
   "outputs": [
    {
     "name": "stdin",
     "output_type": "stream",
     "text": [
      " abccaa\n"
     ]
    },
    {
     "name": "stdout",
     "output_type": "stream",
     "text": [
      "yes\n"
     ]
    }
   ],
   "source": [
    "def checkPalindrome(str) :\n",
    "    n = len(str)\n",
    "    count = 0\n",
    "    for i in range(0, int(n / 2)) :\n",
    "        if (str[i] != str[n - i - 1]) :\n",
    "            count = count + 1\n",
    "    if(count <= 1) :\n",
    "        return True\n",
    "    else :\n",
    "        return False\n",
    "S=input()\n",
    "if (checkPalindrome(S)) :\n",
    "    print (\"yes\")\n",
    "else :\n",
    "    print (\"no\")\n",
    "        "
   ]
  },
  {
   "cell_type": "code",
   "execution_count": null,
   "id": "989c8786-2d6a-4cfb-b72b-4a1c171dd700",
   "metadata": {},
   "outputs": [],
   "source": []
  }
 ],
 "metadata": {
  "kernelspec": {
   "display_name": "Python 3 (ipykernel)",
   "language": "python",
   "name": "python3"
  },
  "language_info": {
   "codemirror_mode": {
    "name": "ipython",
    "version": 3
   },
   "file_extension": ".py",
   "mimetype": "text/x-python",
   "name": "python",
   "nbconvert_exporter": "python",
   "pygments_lexer": "ipython3",
   "version": "3.11.4"
  }
 },
 "nbformat": 4,
 "nbformat_minor": 5
}

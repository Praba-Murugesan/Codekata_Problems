{
 "cells": [
  {
   "cell_type": "code",
   "execution_count": 1,
   "id": "745fe9fc",
   "metadata": {},
   "outputs": [
    {
     "name": "stdout",
     "output_type": "stream",
     "text": [
      "2 10\n",
      "1 2\n",
      "-1\n"
     ]
    }
   ],
   "source": [
    "n,RM=map(int,input().split())\n",
    "l=list(map(int,input().split()))\n",
    "count=0\n",
    "for i in range(0,n):\n",
    "    if(RM==l[i]):\n",
    "        print(i)\n",
    "        count=count+1\n",
    "if(count==0):\n",
    "  print(-1)"
   ]
  },
  {
   "cell_type": "code",
   "execution_count": null,
   "id": "5d70d638",
   "metadata": {},
   "outputs": [],
   "source": []
  }
 ],
 "metadata": {
  "kernelspec": {
   "display_name": "Python 3 (ipykernel)",
   "language": "python",
   "name": "python3"
  },
  "language_info": {
   "codemirror_mode": {
    "name": "ipython",
    "version": 3
   },
   "file_extension": ".py",
   "mimetype": "text/x-python",
   "name": "python",
   "nbconvert_exporter": "python",
   "pygments_lexer": "ipython3",
   "version": "3.11.4"
  }
 },
 "nbformat": 4,
 "nbformat_minor": 5
}

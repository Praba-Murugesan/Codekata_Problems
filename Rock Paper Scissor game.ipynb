{
 "cells": [
  {
   "cell_type": "code",
   "execution_count": null,
   "id": "b4df2ecd-61c0-4943-88ec-e9aa36dc07b8",
   "metadata": {},
   "outputs": [],
   "source": [
    "a,b=list(map(str,input().split()))\n",
    "if((a=='R' and b=='P') or (a=='P' and b=='R')):\n",
    "    print('P')\n",
    "if((a=='R' and b=='S') or (a=='S' and b=='R')):\n",
    "    print('R')\n",
    "if((a=='S' and b=='P') or (a=='P' and b=='S')):\n",
    "    print('S')\n",
    "if(a==b):\n",
    "    print('D')"
   ]
  }
 ],
 "metadata": {
  "kernelspec": {
   "display_name": "Python 3 (ipykernel)",
   "language": "python",
   "name": "python3"
  },
  "language_info": {
   "codemirror_mode": {
    "name": "ipython",
    "version": 3
   },
   "file_extension": ".py",
   "mimetype": "text/x-python",
   "name": "python",
   "nbconvert_exporter": "python",
   "pygments_lexer": "ipython3",
   "version": "3.11.4"
  }
 },
 "nbformat": 4,
 "nbformat_minor": 5
}

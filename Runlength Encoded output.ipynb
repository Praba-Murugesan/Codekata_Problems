{
 "cells": [
  {
   "cell_type": "code",
   "execution_count": 14,
   "id": "bc9b269b-879c-4ebe-af1a-bec8b9867e03",
   "metadata": {
    "tags": []
   },
   "outputs": [
    {
     "name": "stdin",
     "output_type": "stream",
     "text": [
      " aaabc\n"
     ]
    },
    {
     "name": "stdout",
     "output_type": "stream",
     "text": [
      "a3b1c1\n"
     ]
    }
   ],
   "source": [
    "S=input()\n",
    "i=0\n",
    "count=1 \n",
    "l=[]\n",
    "while(i<len(S)):\n",
    "        if((i!=len(S)-1) and S[i]==S[i+1]):\n",
    "            count=count+1\n",
    "            i=i+1\n",
    "        elif((i==len(S)-1) and S[i-1]!=S[i]):\n",
    "            l.append(S[i])\n",
    "            l.append(str(count))\n",
    "            i=i+1\n",
    "        else:\n",
    "            l.append(S[i])\n",
    "            l.append(str(count))\n",
    "            i=i+1\n",
    "            count=1       \n",
    "print(''.join(l))"
   ]
  },
  {
   "cell_type": "code",
   "execution_count": null,
   "id": "d7d91db4-7ea8-4f11-93ba-87be9194e16b",
   "metadata": {},
   "outputs": [],
   "source": []
  },
  {
   "cell_type": "code",
   "execution_count": null,
   "id": "53ddab22-f25f-4986-b173-5dbd43e4faf0",
   "metadata": {},
   "outputs": [],
   "source": []
  }
 ],
 "metadata": {
  "kernelspec": {
   "display_name": "Python 3 (ipykernel)",
   "language": "python",
   "name": "python3"
  },
  "language_info": {
   "codemirror_mode": {
    "name": "ipython",
    "version": 3
   },
   "file_extension": ".py",
   "mimetype": "text/x-python",
   "name": "python",
   "nbconvert_exporter": "python",
   "pygments_lexer": "ipython3",
   "version": "3.11.4"
  }
 },
 "nbformat": 4,
 "nbformat_minor": 5
}

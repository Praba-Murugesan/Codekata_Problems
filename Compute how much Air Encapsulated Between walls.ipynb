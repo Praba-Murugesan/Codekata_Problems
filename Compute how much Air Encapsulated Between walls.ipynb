{
 "cells": [
  {
   "cell_type": "code",
   "execution_count": 1,
   "id": "7b187f14",
   "metadata": {},
   "outputs": [
    {
     "name": "stdout",
     "output_type": "stream",
     "text": [
      "3\n",
      "7 4 9\n",
      "3\n"
     ]
    }
   ],
   "source": [
    "N=int(input())\n",
    "l=list(map(int,input().split()))\n",
    "s=[]\n",
    "for i in range(1,N-1):\n",
    "    if((l[i-1]>l[i]<l[i+1])):\n",
    "      if((l[i-1]>l[i+1])):\n",
    "        c=l[i+1]-l[i]\n",
    "      elif(l[i-1]<l[i+1]):\n",
    "        c=l[i-1]-l[i]\n",
    "      s.append(c) \n",
    "total=0\n",
    "for i in range(0,len(s)):\n",
    "    total=total+s[i]\n",
    "print(total)\n"
   ]
  },
  {
   "cell_type": "code",
   "execution_count": null,
   "id": "50a50d43",
   "metadata": {},
   "outputs": [],
   "source": []
  }
 ],
 "metadata": {
  "kernelspec": {
   "display_name": "Python 3 (ipykernel)",
   "language": "python",
   "name": "python3"
  },
  "language_info": {
   "codemirror_mode": {
    "name": "ipython",
    "version": 3
   },
   "file_extension": ".py",
   "mimetype": "text/x-python",
   "name": "python",
   "nbconvert_exporter": "python",
   "pygments_lexer": "ipython3",
   "version": "3.11.4"
  }
 },
 "nbformat": 4,
 "nbformat_minor": 5
}

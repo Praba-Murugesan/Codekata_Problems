{
 "cells": [
  {
   "cell_type": "code",
   "execution_count": 1,
   "id": "a721a2d6",
   "metadata": {},
   "outputs": [
    {
     "name": "stdout",
     "output_type": "stream",
     "text": [
      "5 15\n",
      "50 65 85 98 35\n",
      "0 1 0 1 0\n"
     ]
    }
   ],
   "source": [
    "n,m=map(int,input().split())\n",
    "l=list(map(int,input().split()))\n",
    "s=[]\n",
    "for i in range(0,n-1):\n",
    "        \n",
    "      if(abs(l[i]-l[i+1])>m):\n",
    "        s.append(1)\n",
    "      else:\n",
    "        s.append(0)\n",
    "if(abs(l[n-1]-l[0])>m):\n",
    "  s.append(1)\n",
    "else:\n",
    "  s.append(0)\n",
    "\n",
    "print(*s)"
   ]
  },
  {
   "cell_type": "code",
   "execution_count": null,
   "id": "8f1abc58",
   "metadata": {},
   "outputs": [],
   "source": []
  }
 ],
 "metadata": {
  "kernelspec": {
   "display_name": "Python 3 (ipykernel)",
   "language": "python",
   "name": "python3"
  },
  "language_info": {
   "codemirror_mode": {
    "name": "ipython",
    "version": 3
   },
   "file_extension": ".py",
   "mimetype": "text/x-python",
   "name": "python",
   "nbconvert_exporter": "python",
   "pygments_lexer": "ipython3",
   "version": "3.11.4"
  }
 },
 "nbformat": 4,
 "nbformat_minor": 5
}

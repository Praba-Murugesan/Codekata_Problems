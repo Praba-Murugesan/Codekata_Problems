{
 "cells": [
  {
   "cell_type": "code",
   "execution_count": 65,
   "id": "f3da392e-dca9-4801-939c-ab76d0bfac4c",
   "metadata": {
    "tags": []
   },
   "outputs": [
    {
     "name": "stdin",
     "output_type": "stream",
     "text": [
      " 7\n",
      " rat art cat act dog god tar pat\n"
     ]
    },
    {
     "name": "stdout",
     "output_type": "stream",
     "text": [
      "['rat', 'art', 'tar'] ['cat', 'act'] ['dog', 'god'] ['pat']\n"
     ]
    }
   ],
   "source": [
    "from collections import defaultdict\n",
    "\n",
    "def group_anagrams(strings):\n",
    "    anagram_dict = defaultdict(list)\n",
    "    for s in strings:\n",
    "        anagram_dict[tuple(sorted(s))].append(s)\n",
    "    return list(anagram_dict.values())\n",
    "N=int(input())\n",
    "l=[[0]]*N\n",
    "m=[]\n",
    "s=list(map(str,input().split()))\n",
    "l=group_anagrams(s)\n",
    "for i in range(len(l)):\n",
    "    m.append((l[i]))\n",
    "print(*m)\n",
    "\n",
    "\n",
    "        \n",
    "    \n",
    "    \n",
    "            \n",
    "            \n",
    "            \n",
    "    \n",
    "            \n",
    "            "
   ]
  },
  {
   "cell_type": "code",
   "execution_count": null,
   "id": "ae04418d-0320-41c1-8906-83f8d2999212",
   "metadata": {},
   "outputs": [],
   "source": []
  },
  {
   "cell_type": "code",
   "execution_count": null,
   "id": "f6cf4a81-9691-447b-8c8b-b1b2118d3894",
   "metadata": {},
   "outputs": [],
   "source": []
  }
 ],
 "metadata": {
  "kernelspec": {
   "display_name": "Python 3 (ipykernel)",
   "language": "python",
   "name": "python3"
  },
  "language_info": {
   "codemirror_mode": {
    "name": "ipython",
    "version": 3
   },
   "file_extension": ".py",
   "mimetype": "text/x-python",
   "name": "python",
   "nbconvert_exporter": "python",
   "pygments_lexer": "ipython3",
   "version": "3.11.4"
  }
 },
 "nbformat": 4,
 "nbformat_minor": 5
}

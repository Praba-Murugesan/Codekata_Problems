{
 "cells": [
  {
   "cell_type": "code",
   "execution_count": 1,
   "id": "7c327bb0",
   "metadata": {},
   "outputs": [
    {
     "name": "stdout",
     "output_type": "stream",
     "text": [
      "i am pra pra hai am hai hai\n",
      "i am hai am\n"
     ]
    }
   ],
   "source": [
    "def rec(l):\n",
    "    m=[]\n",
    "    n=[]\n",
    "    for i in range(0,len(l)-1):\n",
    "        if(l[i]==l[i+1]):\n",
    "            m.append(l[i])\n",
    "    for i in range(0,len(l)):\n",
    "        if(l[i] not in m or (l[i]!=l[i-1] and l[i]!=l[i+1])):\n",
    "            n.append(l[i])\n",
    "    if(m!=[]):\n",
    "        rec(n)\n",
    "    elif(n==[]):\n",
    "        print('-1')\n",
    "    else:\n",
    "        print(*n)\n",
    "s=list(map(str,input().split()))\n",
    "v=[]\n",
    "rec(s)"
   ]
  },
  {
   "cell_type": "code",
   "execution_count": null,
   "id": "88d2b5a6",
   "metadata": {},
   "outputs": [],
   "source": []
  }
 ],
 "metadata": {
  "kernelspec": {
   "display_name": "Python 3 (ipykernel)",
   "language": "python",
   "name": "python3"
  },
  "language_info": {
   "codemirror_mode": {
    "name": "ipython",
    "version": 3
   },
   "file_extension": ".py",
   "mimetype": "text/x-python",
   "name": "python",
   "nbconvert_exporter": "python",
   "pygments_lexer": "ipython3",
   "version": "3.11.4"
  }
 },
 "nbformat": 4,
 "nbformat_minor": 5
}

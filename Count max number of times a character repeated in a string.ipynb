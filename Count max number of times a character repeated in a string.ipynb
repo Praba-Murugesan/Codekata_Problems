{
 "cells": [
  {
   "cell_type": "code",
   "execution_count": 1,
   "id": "3bb5f313",
   "metadata": {},
   "outputs": [
    {
     "name": "stdout",
     "output_type": "stream",
     "text": [
      "codekata\n",
      "2\n"
     ]
    }
   ],
   "source": [
    "S=input()\n",
    "l=[]\n",
    "for i in range(0,len(S)-1):\n",
    "    count=1\n",
    "    for j in range(i+1,len(S)):\n",
    "        if(S[i]==S[j]):\n",
    "            count=count+1\n",
    "    l.append(count)\n",
    "if(l==[]):\n",
    "    print('0')\n",
    "else:\n",
    "    print(max(l))            "
   ]
  },
  {
   "cell_type": "code",
   "execution_count": null,
   "id": "beefe684",
   "metadata": {},
   "outputs": [],
   "source": []
  }
 ],
 "metadata": {
  "kernelspec": {
   "display_name": "Python 3 (ipykernel)",
   "language": "python",
   "name": "python3"
  },
  "language_info": {
   "codemirror_mode": {
    "name": "ipython",
    "version": 3
   },
   "file_extension": ".py",
   "mimetype": "text/x-python",
   "name": "python",
   "nbconvert_exporter": "python",
   "pygments_lexer": "ipython3",
   "version": "3.11.4"
  }
 },
 "nbformat": 4,
 "nbformat_minor": 5
}

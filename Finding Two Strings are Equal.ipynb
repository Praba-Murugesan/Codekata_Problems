{
 "cells": [
  {
   "cell_type": "code",
   "execution_count": 1,
   "id": "116cd4ec",
   "metadata": {},
   "outputs": [
    {
     "name": "stdout",
     "output_type": "stream",
     "text": [
      "guvi guvi\n",
      "yes\n"
     ]
    }
   ],
   "source": [
    "S1,s2=list(map(str,input().split()))\n",
    "d=0\n",
    "for i in range(len(S1)):\n",
    "    if(S1[i]!=s2[i]):\n",
    "        print('no')\n",
    "        d=0\n",
    "        break\n",
    "    else:\n",
    "        d=d+1\n",
    "if(d>0): \n",
    "    print('yes')"
   ]
  },
  {
   "cell_type": "code",
   "execution_count": null,
   "id": "db8dc69e",
   "metadata": {},
   "outputs": [],
   "source": []
  }
 ],
 "metadata": {
  "kernelspec": {
   "display_name": "Python 3 (ipykernel)",
   "language": "python",
   "name": "python3"
  },
  "language_info": {
   "codemirror_mode": {
    "name": "ipython",
    "version": 3
   },
   "file_extension": ".py",
   "mimetype": "text/x-python",
   "name": "python",
   "nbconvert_exporter": "python",
   "pygments_lexer": "ipython3",
   "version": "3.11.4"
  }
 },
 "nbformat": 4,
 "nbformat_minor": 5
}

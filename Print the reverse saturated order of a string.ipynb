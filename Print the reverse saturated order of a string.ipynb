{
 "cells": [
  {
   "cell_type": "code",
   "execution_count": 1,
   "id": "aa6ac664-7b27-4f1d-aa9f-f3ab344ece0a",
   "metadata": {
    "tags": []
   },
   "outputs": [
    {
     "name": "stdin",
     "output_type": "stream",
     "text": [
      " I am kohli fan\n"
     ]
    },
    {
     "name": "stdout",
     "output_type": "stream",
     "text": [
      "I ma ilhok naf\n"
     ]
    }
   ],
   "source": [
    "s=input().split()\n",
    "l=[]\n",
    "for i in s:\n",
    "    l.append(i[::-1])\n",
    "print(*l)\n"
   ]
  },
  {
   "cell_type": "code",
   "execution_count": null,
   "id": "9d0d4b57-1d7d-40f3-825a-ad5d61dead78",
   "metadata": {},
   "outputs": [],
   "source": []
  }
 ],
 "metadata": {
  "kernelspec": {
   "display_name": "Python 3 (ipykernel)",
   "language": "python",
   "name": "python3"
  },
  "language_info": {
   "codemirror_mode": {
    "name": "ipython",
    "version": 3
   },
   "file_extension": ".py",
   "mimetype": "text/x-python",
   "name": "python",
   "nbconvert_exporter": "python",
   "pygments_lexer": "ipython3",
   "version": "3.11.4"
  }
 },
 "nbformat": 4,
 "nbformat_minor": 5
}

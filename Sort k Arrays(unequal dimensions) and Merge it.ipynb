{
 "cells": [
  {
   "cell_type": "code",
   "execution_count": 2,
   "id": "944c5ec7",
   "metadata": {},
   "outputs": [
    {
     "name": "stdout",
     "output_type": "stream",
     "text": [
      "3\n",
      "2\n",
      "98 12\n",
      "6\n",
      "1 2 3 8 5 9\n",
      "1\n",
      "11\n",
      "12 98 1 2 3 5 8 9 11\n"
     ]
    }
   ],
   "source": [
    "k=int(input())\n",
    "s=[]\n",
    "for i in range(0,k):\n",
    "    a=int(input())\n",
    "    l=list(map(int,input().split()))\n",
    "    if(a==0):\n",
    "      s.append(-1)\n",
    "    elif(a!=1):\n",
    "      for i in range(0,a-1):\n",
    "        for j in range(i+1,a):\n",
    "          if(l[i]>l[j]):\n",
    "            c=l[j]\n",
    "            l[j]=l[i]\n",
    "            l[i]=c\n",
    "      s.append(l)\n",
    "    elif(a==1):\n",
    "      s.append(l)\n",
    "d=sum(s,[])\n",
    "c=list(map(str,d))\n",
    "print(\" \".join(c))\n",
    "\n"
   ]
  },
  {
   "cell_type": "code",
   "execution_count": null,
   "id": "22d569b0",
   "metadata": {},
   "outputs": [],
   "source": []
  }
 ],
 "metadata": {
  "kernelspec": {
   "display_name": "Python 3 (ipykernel)",
   "language": "python",
   "name": "python3"
  },
  "language_info": {
   "codemirror_mode": {
    "name": "ipython",
    "version": 3
   },
   "file_extension": ".py",
   "mimetype": "text/x-python",
   "name": "python",
   "nbconvert_exporter": "python",
   "pygments_lexer": "ipython3",
   "version": "3.11.4"
  }
 },
 "nbformat": 4,
 "nbformat_minor": 5
}

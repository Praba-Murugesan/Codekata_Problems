{
 "cells": [
  {
   "cell_type": "code",
   "execution_count": null,
   "id": "76fd04a7-159a-454f-b237-ca7f70d7bf4e",
   "metadata": {},
   "outputs": [],
   "source": [
    "S=input()\n",
    "T=int(input())\n",
    "P=int(input())\n",
    "c=[]\n",
    "for i in range(0,len(S)):\n",
    "    if T==1:\n",
    "      if((i+1)%P==0):\n",
    "        c.append(S[i].lower())\n",
    "       \n",
    "      else:\n",
    "        c.append(S[i])\n",
    "        \n",
    "    if T==2:\n",
    "      if((i+1)%P==0):\n",
    "        c.append(S[i].upper())\n",
    "      else:\n",
    "        c.append(S[i])\n",
    "print(''.join(c))"
   ]
  }
 ],
 "metadata": {
  "kernelspec": {
   "display_name": "Python 3 (ipykernel)",
   "language": "python",
   "name": "python3"
  },
  "language_info": {
   "codemirror_mode": {
    "name": "ipython",
    "version": 3
   },
   "file_extension": ".py",
   "mimetype": "text/x-python",
   "name": "python",
   "nbconvert_exporter": "python",
   "pygments_lexer": "ipython3",
   "version": "3.11.4"
  }
 },
 "nbformat": 4,
 "nbformat_minor": 5
}

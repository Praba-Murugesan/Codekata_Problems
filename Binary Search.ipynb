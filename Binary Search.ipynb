{
 "cells": [
  {
   "cell_type": "code",
   "execution_count": 1,
   "id": "3d114c12",
   "metadata": {},
   "outputs": [
    {
     "name": "stdout",
     "output_type": "stream",
     "text": [
      "5 2\n",
      "1 2 3 4 5\n",
      "yes\n"
     ]
    }
   ],
   "source": [
    "def bin_search(l,i,j,K):\n",
    "    if(i<=j):\n",
    "        mid=(i+j)//2\n",
    "        if(K==l[mid]):            \n",
    "            return(l[mid])       \n",
    "        elif(K<l[mid]):\n",
    "            return bin_search(l,i,mid-1,K)\n",
    "        elif(K>l[mid]):\n",
    "            return bin_search(l,mid+1,j,K)\n",
    "    else:\n",
    "      return -1\n",
    "    \n",
    "N,K=list(map(int,input().split()))   \n",
    "l=list(map(int,input().split()))\n",
    "l.sort()\n",
    "c=bin_search(l,0,N-1,K)\n",
    "if(c!=-1):\n",
    "    print('yes')\n",
    "else:\n",
    "    print('no')"
   ]
  },
  {
   "cell_type": "code",
   "execution_count": null,
   "id": "0d6941d5",
   "metadata": {},
   "outputs": [],
   "source": []
  }
 ],
 "metadata": {
  "kernelspec": {
   "display_name": "Python 3 (ipykernel)",
   "language": "python",
   "name": "python3"
  },
  "language_info": {
   "codemirror_mode": {
    "name": "ipython",
    "version": 3
   },
   "file_extension": ".py",
   "mimetype": "text/x-python",
   "name": "python",
   "nbconvert_exporter": "python",
   "pygments_lexer": "ipython3",
   "version": "3.11.4"
  }
 },
 "nbformat": 4,
 "nbformat_minor": 5
}

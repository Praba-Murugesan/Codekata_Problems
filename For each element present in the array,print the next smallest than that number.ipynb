{
 "cells": [
  {
   "cell_type": "code",
   "execution_count": 1,
   "id": "a5a6ca44",
   "metadata": {},
   "outputs": [
    {
     "name": "stdout",
     "output_type": "stream",
     "text": [
      "7\n",
      "10 7 9 3 2 1 15\n",
      "7 3 3 2 1 -1 -1\n"
     ]
    }
   ],
   "source": [
    "n=int(input())\n",
    "m=list(map(int,input().split()))\n",
    "l=[]\n",
    "for i in range(0,n):\n",
    "  a=i\n",
    "  for j in range(i+1,n):\n",
    "    b=j\n",
    "    if(m[i]>(m[j])):\n",
    "      l.append(m[j])\n",
    "      break\n",
    "    elif(b==(n-1)):\n",
    "      c=-1\n",
    "      l.append(c)\n",
    "  if(a==n-1):\n",
    "    c=-1\n",
    "    l.append(c)\n",
    "print(*l)\n",
    "       "
   ]
  },
  {
   "cell_type": "code",
   "execution_count": null,
   "id": "91f13ff6",
   "metadata": {},
   "outputs": [],
   "source": []
  }
 ],
 "metadata": {
  "kernelspec": {
   "display_name": "Python 3 (ipykernel)",
   "language": "python",
   "name": "python3"
  },
  "language_info": {
   "codemirror_mode": {
    "name": "ipython",
    "version": 3
   },
   "file_extension": ".py",
   "mimetype": "text/x-python",
   "name": "python",
   "nbconvert_exporter": "python",
   "pygments_lexer": "ipython3",
   "version": "3.11.4"
  }
 },
 "nbformat": 4,
 "nbformat_minor": 5
}

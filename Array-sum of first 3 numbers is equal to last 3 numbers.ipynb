{
 "cells": [
  {
   "cell_type": "code",
   "execution_count": 2,
   "id": "70e11d40",
   "metadata": {},
   "outputs": [
    {
     "name": "stdout",
     "output_type": "stream",
     "text": [
      "7\n",
      "1 2 3 4 6 0 0\n",
      "1\n"
     ]
    }
   ],
   "source": [
    "n=int(input())\n",
    "l=list(map(int,input().split()))\n",
    "sum1=0\n",
    "sum2=0\n",
    "for i in range(0,3):\n",
    "    sum1=sum1+l[i]\n",
    "for i in range(n-1,n-4,-1):\n",
    "    sum2=sum2+l[i]\n",
    "if(sum1==sum2):\n",
    "    print('1')\n",
    "else:\n",
    "    print('0')\n"
   ]
  },
  {
   "cell_type": "code",
   "execution_count": null,
   "id": "f52d3a45",
   "metadata": {},
   "outputs": [],
   "source": []
  },
  {
   "cell_type": "code",
   "execution_count": null,
   "id": "2a37c17b",
   "metadata": {},
   "outputs": [],
   "source": []
  }
 ],
 "metadata": {
  "kernelspec": {
   "display_name": "Python 3 (ipykernel)",
   "language": "python",
   "name": "python3"
  },
  "language_info": {
   "codemirror_mode": {
    "name": "ipython",
    "version": 3
   },
   "file_extension": ".py",
   "mimetype": "text/x-python",
   "name": "python",
   "nbconvert_exporter": "python",
   "pygments_lexer": "ipython3",
   "version": "3.11.4"
  }
 },
 "nbformat": 4,
 "nbformat_minor": 5
}

{
 "cells": [
  {
   "cell_type": "code",
   "execution_count": null,
   "id": "3f505b47",
   "metadata": {},
   "outputs": [],
   "source": [
    "a,b=list(map(int,input().split()))\n",
    "p=1\n",
    "c=1\n",
    "if((a<=1000 and b<=1000  and a-b<=5)):\n",
    "    for i in range(1,a+1):\n",
    "        p=p*i \n",
    "    for i in range(1,b+1):\n",
    "        c=c*i\n",
    "print(round(p/c))"
   ]
  }
 ],
 "metadata": {
  "kernelspec": {
   "display_name": "Python 3 (ipykernel)",
   "language": "python",
   "name": "python3"
  },
  "language_info": {
   "codemirror_mode": {
    "name": "ipython",
    "version": 3
   },
   "file_extension": ".py",
   "mimetype": "text/x-python",
   "name": "python",
   "nbconvert_exporter": "python",
   "pygments_lexer": "ipython3",
   "version": "3.11.4"
  }
 },
 "nbformat": 4,
 "nbformat_minor": 5
}

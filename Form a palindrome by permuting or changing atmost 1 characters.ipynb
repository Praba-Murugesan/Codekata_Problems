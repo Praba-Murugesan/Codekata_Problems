{
 "cells": [
  {
   "cell_type": "code",
   "execution_count": 16,
   "id": "1d6cff7e-0628-4841-9029-af5ed4360055",
   "metadata": {
    "tags": []
   },
   "outputs": [
    {
     "name": "stdin",
     "output_type": "stream",
     "text": [
      " hai\n"
     ]
    },
    {
     "name": "stdout",
     "output_type": "stream",
     "text": [
      "YES\n"
     ]
    }
   ],
   "source": [
    "import math\n",
    "def checkPalindrome(str) :\n",
    "    n = len(str)\n",
    "    count = 0\n",
    "    for i in range(0, int(n/2)) :\n",
    "        if (str[i] != str[n - i - 1]) :\n",
    "            count = count + 1\n",
    "    if(count <= 1) :\n",
    "        return True\n",
    "    else :\n",
    "        return False\n",
    "S=input()\n",
    "if (checkPalindrome(S)) :\n",
    "    print (\"YES\")\n",
    "else :\n",
    "    print (\"NO\") "
   ]
  },
  {
   "cell_type": "code",
   "execution_count": null,
   "id": "9476dce0-2d4e-4c52-9bd6-462d9eef4b7b",
   "metadata": {},
   "outputs": [],
   "source": []
  }
 ],
 "metadata": {
  "kernelspec": {
   "display_name": "Python 3 (ipykernel)",
   "language": "python",
   "name": "python3"
  },
  "language_info": {
   "codemirror_mode": {
    "name": "ipython",
    "version": 3
   },
   "file_extension": ".py",
   "mimetype": "text/x-python",
   "name": "python",
   "nbconvert_exporter": "python",
   "pygments_lexer": "ipython3",
   "version": "3.11.4"
  }
 },
 "nbformat": 4,
 "nbformat_minor": 5
}

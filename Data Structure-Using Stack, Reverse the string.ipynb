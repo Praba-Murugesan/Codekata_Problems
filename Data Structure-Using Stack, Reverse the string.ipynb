{
 "cells": [
  {
   "cell_type": "code",
   "execution_count": 1,
   "id": "8119cd13",
   "metadata": {},
   "outputs": [
    {
     "name": "stdout",
     "output_type": "stream",
     "text": [
      "hai hello\n",
      "hello hai\n"
     ]
    }
   ],
   "source": [
    "s=input().split()\n",
    "l=[]\n",
    "w=[]  \n",
    "top=-1\n",
    "for i in range(0,len(s)):\n",
    "    l.append(s[i])\n",
    "    top=top+1\n",
    "    c=top\n",
    "\n",
    "while(c>=0):\n",
    "    w.append(l[c])\n",
    "    c=c-1\n",
    "print(' '.join(w))\n",
    "    "
   ]
  },
  {
   "cell_type": "code",
   "execution_count": null,
   "id": "00ebcdb8",
   "metadata": {},
   "outputs": [],
   "source": []
  }
 ],
 "metadata": {
  "kernelspec": {
   "display_name": "Python 3 (ipykernel)",
   "language": "python",
   "name": "python3"
  },
  "language_info": {
   "codemirror_mode": {
    "name": "ipython",
    "version": 3
   },
   "file_extension": ".py",
   "mimetype": "text/x-python",
   "name": "python",
   "nbconvert_exporter": "python",
   "pygments_lexer": "ipython3",
   "version": "3.11.4"
  }
 },
 "nbformat": 4,
 "nbformat_minor": 5
}

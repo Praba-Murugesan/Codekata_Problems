{
 "cells": [
  {
   "cell_type": "code",
   "execution_count": 1,
   "id": "fc7c029a",
   "metadata": {},
   "outputs": [
    {
     "name": "stdout",
     "output_type": "stream",
     "text": [
      "5\n",
      "1 9 16 25 46\n",
      "2 3 4 5 6\n",
      "11\n"
     ]
    }
   ],
   "source": [
    "n=int(input())\n",
    "a=list(map(int,input().split()))\n",
    "b=list(map(int,input().split()))\n",
    "c=[] \n",
    "i=0  \n",
    "j=0  \n",
    "k=0  \n",
    "sum=0\n",
    "while(j<n and i<n):\n",
    "    if(a[i]<b[j]):\n",
    "        c.append(a[i])\n",
    "        i=i+1\n",
    "    else:\n",
    "        c.append(b[j])\n",
    "        j=j+1\n",
    "while(i<n):\n",
    "    c.append(a[i])\n",
    "    i=i+1\n",
    "while(j<n):\n",
    "    c.append(b[j])\n",
    "    j=j+1\n",
    "for i in range(0,(n+n)-1):\n",
    "  for j in range(i+1,n+n):\n",
    "    if(c[i]>c[j]):\n",
    "      d=c[i]\n",
    "      c[i]=c[j]\n",
    "      c[j]=d\n",
    "for i in range(((n+n)-1)//2,((n+n)//2)+1):\n",
    "    sum=sum+c[i]\n",
    "print(sum)\n",
    "    "
   ]
  },
  {
   "cell_type": "code",
   "execution_count": null,
   "id": "85e084c9",
   "metadata": {},
   "outputs": [],
   "source": []
  }
 ],
 "metadata": {
  "kernelspec": {
   "display_name": "Python 3 (ipykernel)",
   "language": "python",
   "name": "python3"
  },
  "language_info": {
   "codemirror_mode": {
    "name": "ipython",
    "version": 3
   },
   "file_extension": ".py",
   "mimetype": "text/x-python",
   "name": "python",
   "nbconvert_exporter": "python",
   "pygments_lexer": "ipython3",
   "version": "3.11.4"
  }
 },
 "nbformat": 4,
 "nbformat_minor": 5
}

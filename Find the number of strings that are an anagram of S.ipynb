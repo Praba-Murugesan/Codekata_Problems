{
 "cells": [
  {
   "cell_type": "code",
   "execution_count": 1,
   "id": "d696f2c1-a248-4a0c-8ccb-fb45f80dbf43",
   "metadata": {
    "tags": []
   },
   "outputs": [
    {
     "name": "stdin",
     "output_type": "stream",
     "text": [
      " 5\n",
      " kabali\n",
      " kaba\n",
      " kabail\n",
      " kah\n",
      " kbaali\n"
     ]
    },
    {
     "name": "stdout",
     "output_type": "stream",
     "text": [
      "3\n"
     ]
    }
   ],
   "source": [
    "N=int(input())\n",
    "l=[]\n",
    "c=0\n",
    "for i in range(0,N):\n",
    "    e=input()\n",
    "    l.append(sorted(e))\n",
    "for i in range(0,N):\n",
    "    if(l[0]==l[i]):\n",
    "        c=c+1\n",
    "if(c>1):\n",
    "    print(c)\n",
    "elif(c==1):\n",
    "    print('0')"
   ]
  },
  {
   "cell_type": "code",
   "execution_count": null,
   "id": "a73bc787-5a88-48ee-bf4f-34e6a727e686",
   "metadata": {},
   "outputs": [],
   "source": []
  }
 ],
 "metadata": {
  "kernelspec": {
   "display_name": "Python 3 (ipykernel)",
   "language": "python",
   "name": "python3"
  },
  "language_info": {
   "codemirror_mode": {
    "name": "ipython",
    "version": 3
   },
   "file_extension": ".py",
   "mimetype": "text/x-python",
   "name": "python",
   "nbconvert_exporter": "python",
   "pygments_lexer": "ipython3",
   "version": "3.11.4"
  }
 },
 "nbformat": 4,
 "nbformat_minor": 5
}

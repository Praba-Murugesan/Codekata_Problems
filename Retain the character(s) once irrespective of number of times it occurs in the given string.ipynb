{
 "cells": [
  {
   "cell_type": "code",
   "execution_count": 1,
   "id": "1e3e32f3-d4dd-4f7f-969e-e4967c174b71",
   "metadata": {
    "tags": []
   },
   "outputs": [
    {
     "name": "stdin",
     "output_type": "stream",
     "text": [
      " aabbcc\n"
     ]
    },
    {
     "name": "stdout",
     "output_type": "stream",
     "text": [
      "abc\n"
     ]
    }
   ],
   "source": [
    "S=input()\n",
    "l=[]\n",
    "for i in range(0,len(S)):\n",
    "    c=0\n",
    "    if(S[i] not in l and S[i]!=' '):\n",
    "        for j in range(1,len(S)):\n",
    "            if(S[i]==S[j]):\n",
    "               l.append(S[i])\n",
    "               c=1\n",
    "               break \n",
    "    if((S[i] not in l and c==0) or (S[i]==' ')):\n",
    "      l.append(S[i])\n",
    "print(''.join(l))"
   ]
  },
  {
   "cell_type": "code",
   "execution_count": null,
   "id": "06c98ccc-7c25-4e3d-b09d-a57d20d208d2",
   "metadata": {},
   "outputs": [],
   "source": []
  }
 ],
 "metadata": {
  "kernelspec": {
   "display_name": "Python 3 (ipykernel)",
   "language": "python",
   "name": "python3"
  },
  "language_info": {
   "codemirror_mode": {
    "name": "ipython",
    "version": 3
   },
   "file_extension": ".py",
   "mimetype": "text/x-python",
   "name": "python",
   "nbconvert_exporter": "python",
   "pygments_lexer": "ipython3",
   "version": "3.11.4"
  }
 },
 "nbformat": 4,
 "nbformat_minor": 5
}

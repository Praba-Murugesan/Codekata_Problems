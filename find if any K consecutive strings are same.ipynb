{
 "cells": [
  {
   "cell_type": "code",
   "execution_count": 1,
   "id": "9fdc8142-1e96-4b4e-ae36-f2adcbe29b66",
   "metadata": {
    "tags": []
   },
   "outputs": [
    {
     "name": "stdin",
     "output_type": "stream",
     "text": [
      " 3 3\n",
      " code\n",
      " code\n",
      " hai\n"
     ]
    },
    {
     "name": "stdout",
     "output_type": "stream",
     "text": [
      "no\n"
     ]
    }
   ],
   "source": [
    "N,K=list(map(int,input().split()))\n",
    "l=[]\n",
    "c=0\n",
    "for i in range(0,N):\n",
    "    s=input().split()\n",
    "    l.append(s)\n",
    "for i in range(0,N-1):\n",
    "    if(l[i]==l[i+1]):\n",
    "      c=c+1\n",
    "if(c+1==K):\n",
    "    print('yes')\n",
    "else:\n",
    "    print('no') "
   ]
  },
  {
   "cell_type": "code",
   "execution_count": null,
   "id": "152fac0e-9545-4fae-8b2e-7d2ddc9e9fd2",
   "metadata": {},
   "outputs": [],
   "source": []
  }
 ],
 "metadata": {
  "kernelspec": {
   "display_name": "Python 3 (ipykernel)",
   "language": "python",
   "name": "python3"
  },
  "language_info": {
   "codemirror_mode": {
    "name": "ipython",
    "version": 3
   },
   "file_extension": ".py",
   "mimetype": "text/x-python",
   "name": "python",
   "nbconvert_exporter": "python",
   "pygments_lexer": "ipython3",
   "version": "3.11.4"
  }
 },
 "nbformat": 4,
 "nbformat_minor": 5
}

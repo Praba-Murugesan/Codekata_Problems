{
 "cells": [
  {
   "cell_type": "code",
   "execution_count": 3,
   "id": "517c4339-0524-4e97-953f-59b26b416d0b",
   "metadata": {
    "tags": []
   },
   "outputs": [
    {
     "name": "stdin",
     "output_type": "stream",
     "text": [
      " GuvI\n"
     ]
    },
    {
     "name": "stdout",
     "output_type": "stream",
     "text": [
      "uIGv\n"
     ]
    }
   ],
   "source": [
    "S=input()\n",
    "l=['a','e','i','o','u','A','E','I','O','U']\n",
    "l1=[]\n",
    "l2=[]\n",
    "l3=[]\n",
    "for i in range(0,len(S)):\n",
    "    if(S[i] in l):\n",
    "        l1.append(S[i])\n",
    "    else:\n",
    "        l2.append(S[i])\n",
    "l3=l1+l2\n",
    "print(''.join(l3))"
   ]
  },
  {
   "cell_type": "code",
   "execution_count": null,
   "id": "34e24813-410f-43fb-8a83-4d91c1d4a89e",
   "metadata": {},
   "outputs": [],
   "source": []
  }
 ],
 "metadata": {
  "kernelspec": {
   "display_name": "Python 3 (ipykernel)",
   "language": "python",
   "name": "python3"
  },
  "language_info": {
   "codemirror_mode": {
    "name": "ipython",
    "version": 3
   },
   "file_extension": ".py",
   "mimetype": "text/x-python",
   "name": "python",
   "nbconvert_exporter": "python",
   "pygments_lexer": "ipython3",
   "version": "3.11.4"
  }
 },
 "nbformat": 4,
 "nbformat_minor": 5
}

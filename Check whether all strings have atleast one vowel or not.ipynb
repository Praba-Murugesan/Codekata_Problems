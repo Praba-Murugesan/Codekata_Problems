{
 "cells": [
  {
   "cell_type": "code",
   "execution_count": 13,
   "id": "51c6c737",
   "metadata": {},
   "outputs": [
    {
     "name": "stdout",
     "output_type": "stream",
     "text": [
      "3\n",
      "hai\n",
      "hello\n",
      "how\n",
      "yes\n"
     ]
    }
   ],
   "source": [
    "N=int(input())\n",
    "l=[]\n",
    "m=[]\n",
    "\n",
    "b=0\n",
    "c=['a','e','i','o','u']\n",
    "for i in range(0,N):\n",
    "    s=input()\n",
    "    l.append(s)\n",
    "for i in range(0,len(l)):\n",
    "    count=0\n",
    "    for j in range(0,len(l[i])):\n",
    "        \n",
    "        if(l[i][j] not in c):\n",
    "            \n",
    "            count=count+1\n",
    "        \n",
    "    if(count!=len(l[i])) :\n",
    "        m.append(l[i])\n",
    "        \n",
    "        \n",
    "if(len(m)==len(l)):\n",
    "    print('yes')\n",
    "else:\n",
    "    print('no')"
   ]
  },
  {
   "cell_type": "raw",
   "id": "61c71c43",
   "metadata": {},
   "source": []
  },
  {
   "cell_type": "code",
   "execution_count": null,
   "id": "5e8e6618",
   "metadata": {},
   "outputs": [],
   "source": []
  },
  {
   "cell_type": "code",
   "execution_count": null,
   "id": "94b5d0df",
   "metadata": {},
   "outputs": [],
   "source": []
  }
 ],
 "metadata": {
  "kernelspec": {
   "display_name": "Python 3 (ipykernel)",
   "language": "python",
   "name": "python3"
  },
  "language_info": {
   "codemirror_mode": {
    "name": "ipython",
    "version": 3
   },
   "file_extension": ".py",
   "mimetype": "text/x-python",
   "name": "python",
   "nbconvert_exporter": "python",
   "pygments_lexer": "ipython3",
   "version": "3.11.4"
  }
 },
 "nbformat": 4,
 "nbformat_minor": 5
}

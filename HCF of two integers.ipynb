{
 "cells": [
  {
   "cell_type": "code",
   "execution_count": 3,
   "id": "b9c1eb11",
   "metadata": {},
   "outputs": [
    {
     "name": "stdout",
     "output_type": "stream",
     "text": [
      "2 3\n"
     ]
    }
   ],
   "source": [
    "(x,y)=map(int,(input().split()))\n",
    "minimum = min(x, y)\n",
    "if((x % minimum == 0) and (y % minimum == 0)):\n",
    "  print(minimum)\n",
    "elif(x % minimum != 0) or (y % minimum != 0):\n",
    "  for i in range(minimum,1,-1):\n",
    "    if(x % i == 0 and y % i == 0):\n",
    "      print(i)\n",
    "else:\n",
    "  print(1)"
   ]
  },
  {
   "cell_type": "code",
   "execution_count": null,
   "id": "aba4333d",
   "metadata": {},
   "outputs": [],
   "source": []
  }
 ],
 "metadata": {
  "kernelspec": {
   "display_name": "Python 3 (ipykernel)",
   "language": "python",
   "name": "python3"
  },
  "language_info": {
   "codemirror_mode": {
    "name": "ipython",
    "version": 3
   },
   "file_extension": ".py",
   "mimetype": "text/x-python",
   "name": "python",
   "nbconvert_exporter": "python",
   "pygments_lexer": "ipython3",
   "version": "3.11.4"
  }
 },
 "nbformat": 4,
 "nbformat_minor": 5
}

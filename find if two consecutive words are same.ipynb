{
 "cells": [
  {
   "cell_type": "code",
   "execution_count": 1,
   "id": "bdcfcb35-d98c-486f-8fb8-3f7eeee1c039",
   "metadata": {
    "tags": []
   },
   "outputs": [
    {
     "name": "stdin",
     "output_type": "stream",
     "text": [
      " 3\n",
      " code\n",
      " code\n",
      " hai\n"
     ]
    },
    {
     "name": "stdout",
     "output_type": "stream",
     "text": [
      "yes\n"
     ]
    }
   ],
   "source": [
    "N=int(input())\n",
    "l=[]\n",
    "c=0\n",
    "for i in range(0,N):\n",
    "    s=input().split()\n",
    "    l.append(s)\n",
    "for i in range(0,N-1):\n",
    "    if(l[i]==l[i+1]):\n",
    "      c=1\n",
    "if(c==1):\n",
    "    print('yes')\n",
    "else:\n",
    "    print('no') \n",
    "        "
   ]
  },
  {
   "cell_type": "code",
   "execution_count": null,
   "id": "39a3c425-de36-41d2-a87d-03d9434c12bd",
   "metadata": {},
   "outputs": [],
   "source": []
  }
 ],
 "metadata": {
  "kernelspec": {
   "display_name": "Python 3 (ipykernel)",
   "language": "python",
   "name": "python3"
  },
  "language_info": {
   "codemirror_mode": {
    "name": "ipython",
    "version": 3
   },
   "file_extension": ".py",
   "mimetype": "text/x-python",
   "name": "python",
   "nbconvert_exporter": "python",
   "pygments_lexer": "ipython3",
   "version": "3.11.4"
  }
 },
 "nbformat": 4,
 "nbformat_minor": 5
}

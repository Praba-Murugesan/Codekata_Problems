{
 "cells": [
  {
   "cell_type": "code",
   "execution_count": 1,
   "id": "95fe8a4b",
   "metadata": {},
   "outputs": [
    {
     "name": "stdout",
     "output_type": "stream",
     "text": [
      "5\n",
      "    1\n",
      "   1 2\n",
      "  1   3\n",
      " 1     4\n",
      "1 2 3 4 5\n"
     ]
    }
   ],
   "source": [
    "R=int(input())\n",
    "\n",
    "for i in range(0,R):\n",
    "  l=[]\n",
    "  if(i!=R-1):\n",
    "    for k in range(0,R-i-1):\n",
    "      l.append('')\n",
    "  for j in range(0,i+1):\n",
    "    if(i==R-1):\n",
    "      l.append(str(j+1))\n",
    "    elif(j==0 or j==i):\n",
    "      l.append(str(j+1))\n",
    "    elif(j!=0 or j!=i):\n",
    "      l.append(' ')\n",
    "    \n",
    "  print(' '.join(l))\n"
   ]
  },
  {
   "cell_type": "code",
   "execution_count": null,
   "id": "d9bda457",
   "metadata": {},
   "outputs": [],
   "source": []
  }
 ],
 "metadata": {
  "kernelspec": {
   "display_name": "Python 3 (ipykernel)",
   "language": "python",
   "name": "python3"
  },
  "language_info": {
   "codemirror_mode": {
    "name": "ipython",
    "version": 3
   },
   "file_extension": ".py",
   "mimetype": "text/x-python",
   "name": "python",
   "nbconvert_exporter": "python",
   "pygments_lexer": "ipython3",
   "version": "3.11.4"
  }
 },
 "nbformat": 4,
 "nbformat_minor": 5
}

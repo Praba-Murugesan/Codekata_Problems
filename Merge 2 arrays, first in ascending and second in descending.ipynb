{
 "cells": [
  {
   "cell_type": "code",
   "execution_count": 1,
   "id": "044bd88b",
   "metadata": {},
   "outputs": [
    {
     "name": "stdout",
     "output_type": "stream",
     "text": [
      "3 3\n",
      "23 15 16\n",
      "357 65 10\n",
      "15 16 23 357 65 10\n"
     ]
    }
   ],
   "source": [
    "n,m=list(map(int,input().split()))\n",
    "l1=list(map(int,input().split()))\n",
    "l2=list(map(int,input().split()))\n",
    "s=[]\n",
    "for i in range(0,n-1):\n",
    "  for j in range(i+1,n):\n",
    "    if(l1[i]>l1[j]):\n",
    "      c=l1[j]\n",
    "      l1[j]=l1[i]\n",
    "      l1[i]=c\n",
    "s.append(l1)\n",
    "for i in range(0,n-1):\n",
    "  for j in range(i+1,m):\n",
    "    if(l2[i]<l2[j]):\n",
    "      c=l2[j]\n",
    "      l2[j]=l2[i]\n",
    "      l2[i]=c\n",
    "s.append(l2)   \n",
    "d=sum(s,[])\n",
    "c=list(map(str,d))\n",
    "print(\" \".join(c))"
   ]
  },
  {
   "cell_type": "code",
   "execution_count": null,
   "id": "0c130941",
   "metadata": {},
   "outputs": [],
   "source": []
  },
  {
   "cell_type": "code",
   "execution_count": null,
   "id": "7f54564d",
   "metadata": {},
   "outputs": [],
   "source": []
  }
 ],
 "metadata": {
  "kernelspec": {
   "display_name": "Python 3 (ipykernel)",
   "language": "python",
   "name": "python3"
  },
  "language_info": {
   "codemirror_mode": {
    "name": "ipython",
    "version": 3
   },
   "file_extension": ".py",
   "mimetype": "text/x-python",
   "name": "python",
   "nbconvert_exporter": "python",
   "pygments_lexer": "ipython3",
   "version": "3.11.4"
  }
 },
 "nbformat": 4,
 "nbformat_minor": 5
}

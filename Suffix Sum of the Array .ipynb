{
 "cells": [
  {
   "cell_type": "code",
   "execution_count": 4,
   "id": "04aa4113",
   "metadata": {},
   "outputs": [
    {
     "name": "stdout",
     "output_type": "stream",
     "text": [
      "4\n",
      "2 4 4 1\n",
      "11 9 5 1\n"
     ]
    }
   ],
   "source": [
    "N=int(input())\n",
    "l=list(map(int,input().split()))\n",
    "sum=0\n",
    "d=[]\n",
    "m=[]\n",
    "for i in range(N-1,-1,-1):    \n",
    "    sum=sum+l[i]\n",
    "    m.append(sum)\n",
    "d=m[::-1]\n",
    "print(*d)"
   ]
  },
  {
   "cell_type": "code",
   "execution_count": null,
   "id": "9528f3bd",
   "metadata": {},
   "outputs": [],
   "source": []
  },
  {
   "cell_type": "code",
   "execution_count": null,
   "id": "0f9c5acd",
   "metadata": {},
   "outputs": [],
   "source": []
  }
 ],
 "metadata": {
  "kernelspec": {
   "display_name": "Python 3 (ipykernel)",
   "language": "python",
   "name": "python3"
  },
  "language_info": {
   "codemirror_mode": {
    "name": "ipython",
    "version": 3
   },
   "file_extension": ".py",
   "mimetype": "text/x-python",
   "name": "python",
   "nbconvert_exporter": "python",
   "pygments_lexer": "ipython3",
   "version": "3.11.4"
  }
 },
 "nbformat": 4,
 "nbformat_minor": 5
}

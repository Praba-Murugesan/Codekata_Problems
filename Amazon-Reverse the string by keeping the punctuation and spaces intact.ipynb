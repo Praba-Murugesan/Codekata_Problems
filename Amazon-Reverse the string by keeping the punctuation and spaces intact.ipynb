{
 "cells": [
  {
   "cell_type": "code",
   "execution_count": 1,
   "id": "a0950985",
   "metadata": {},
   "outputs": [
    {
     "name": "stdout",
     "output_type": "stream",
     "text": [
      "A man, in the boat says : I see 1-2-3 in the sky\n",
      "y kse, ht ni3 21ee sIsy : a sta o-b-e ht nin amA\n"
     ]
    }
   ],
   "source": [
    "def rev(s, l, r) :\n",
    "    while l<r :\n",
    "        temp = s[l]\n",
    "        s[l] = s[r]\n",
    "        s[r] = temp\n",
    "        l += 1\n",
    "        r -= 1\n",
    "     \n",
    "# creating character array of size\n",
    "# equal to length of string\n",
    "def reverse(s):\n",
    "     \n",
    "    temp = [0]*len(s)\n",
    "    x = 0\n",
    "     \n",
    "    for i in range(0,len(s)) :\n",
    "        if s[i] >= 'a' and s[i] <= 'z' or s[i] >= 'A' and s[i] <= 'Z' or s[i]>='0' and s[i]<='9':\n",
    "            # storing elements in array\n",
    "            temp[x] = s[i]\n",
    "            x += 1\n",
    "    # reversing the character array       \n",
    "    rev(temp, 0, x)\n",
    "    temp=temp[1:]\n",
    "      \n",
    "    lst = list(s)\n",
    "    x = 0\n",
    "     \n",
    "    for i in range(len(s)) :\n",
    "        if s[i] >= 'a' and s[i] <= 'z' or s[i] >= 'A' and s[i] <= 'Z' or s[i]>='0' and s[i]<='9' :\n",
    "            # updating the origional string\n",
    "            lst[i] = temp[x]\n",
    "            x += 1\n",
    "     \n",
    "    revStr = \"\"\n",
    "    for i in range(len(s)) :\n",
    "        revStr += lst[i]\n",
    "         \n",
    "    print(revStr)\n",
    "          \n",
    "s=input()\n",
    "reverse(s)"
   ]
  },
  {
   "cell_type": "code",
   "execution_count": null,
   "id": "7310d2f5",
   "metadata": {},
   "outputs": [],
   "source": []
  }
 ],
 "metadata": {
  "kernelspec": {
   "display_name": "Python 3 (ipykernel)",
   "language": "python",
   "name": "python3"
  },
  "language_info": {
   "codemirror_mode": {
    "name": "ipython",
    "version": 3
   },
   "file_extension": ".py",
   "mimetype": "text/x-python",
   "name": "python",
   "nbconvert_exporter": "python",
   "pygments_lexer": "ipython3",
   "version": "3.11.4"
  }
 },
 "nbformat": 4,
 "nbformat_minor": 5
}

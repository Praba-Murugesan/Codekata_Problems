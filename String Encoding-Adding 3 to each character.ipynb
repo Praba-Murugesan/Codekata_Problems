{
 "cells": [
  {
   "cell_type": "code",
   "execution_count": 1,
   "id": "6902a1be",
   "metadata": {},
   "outputs": [
    {
     "name": "stdout",
     "output_type": "stream",
     "text": [
      "RADAR\n",
      "UDGDU\n"
     ]
    }
   ],
   "source": [
    "S=input()\n",
    "l=[]\n",
    "N=len(S)\n",
    "if(1<=N<=100000):\n",
    "    for i in range(0,len(S)):\n",
    "        l.append(ord(S[i]))\n",
    "    for i in range(0,len(S)):\n",
    "        l[i]=l[i]+3\n",
    "        if(l[i]>90):\n",
    "          l[i]=l[i]-26\n",
    "        l[i]=chr(int(l[i]))\n",
    "print(''.join(l))"
   ]
  },
  {
   "cell_type": "code",
   "execution_count": null,
   "id": "1b8a55df",
   "metadata": {},
   "outputs": [],
   "source": []
  }
 ],
 "metadata": {
  "kernelspec": {
   "display_name": "Python 3 (ipykernel)",
   "language": "python",
   "name": "python3"
  },
  "language_info": {
   "codemirror_mode": {
    "name": "ipython",
    "version": 3
   },
   "file_extension": ".py",
   "mimetype": "text/x-python",
   "name": "python",
   "nbconvert_exporter": "python",
   "pygments_lexer": "ipython3",
   "version": "3.11.4"
  }
 },
 "nbformat": 4,
 "nbformat_minor": 5
}

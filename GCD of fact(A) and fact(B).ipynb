{
 "cells": [
  {
   "cell_type": "code",
   "execution_count": 17,
   "id": "b21097fa-2319-43ba-b2a7-1f59cc5458f7",
   "metadata": {
    "tags": []
   },
   "outputs": [
    {
     "name": "stdin",
     "output_type": "stream",
     "text": [
      " 10000000 8\n"
     ]
    },
    {
     "ename": "KeyboardInterrupt",
     "evalue": "",
     "output_type": "error",
     "traceback": [
      "\u001b[1;31m---------------------------------------------------------------------------\u001b[0m",
      "\u001b[1;31mKeyboardInterrupt\u001b[0m                         Traceback (most recent call last)",
      "Cell \u001b[1;32mIn[17], line 6\u001b[0m\n\u001b[0;32m      4\u001b[0m \u001b[38;5;28;01mif\u001b[39;00m(a\u001b[38;5;241m!=\u001b[39m\u001b[38;5;241m0\u001b[39m \u001b[38;5;129;01mor\u001b[39;00m b\u001b[38;5;241m!=\u001b[39m\u001b[38;5;241m0\u001b[39m):\n\u001b[0;32m      5\u001b[0m     \u001b[38;5;28;01mfor\u001b[39;00m i \u001b[38;5;129;01min\u001b[39;00m \u001b[38;5;28mrange\u001b[39m(\u001b[38;5;241m1\u001b[39m,a\u001b[38;5;241m+\u001b[39m\u001b[38;5;241m1\u001b[39m):\n\u001b[1;32m----> 6\u001b[0m         x\u001b[38;5;241m=\u001b[39m\u001b[43mx\u001b[49m\u001b[38;5;241;43m*\u001b[39;49m\u001b[43mi\u001b[49m \n\u001b[0;32m      7\u001b[0m     \u001b[38;5;28;01mfor\u001b[39;00m i \u001b[38;5;129;01min\u001b[39;00m \u001b[38;5;28mrange\u001b[39m(\u001b[38;5;241m1\u001b[39m,b\u001b[38;5;241m+\u001b[39m\u001b[38;5;241m1\u001b[39m):\n\u001b[0;32m      8\u001b[0m         y\u001b[38;5;241m=\u001b[39my\u001b[38;5;241m*\u001b[39mi\n",
      "\u001b[1;31mKeyboardInterrupt\u001b[0m: "
     ]
    }
   ],
   "source": [
    "a,b=list(map(int,input().split()))\n",
    "x=1\n",
    "y=1\n",
    "if(a!=0 or b!=0):\n",
    "    for i in range(1,a+1):\n",
    "        x=x*i \n",
    "    for i in range(1,b+1):\n",
    "        y=y*i\n",
    "elif(a==0):\n",
    "    x=1\n",
    "elif(b==0):\n",
    "    y=1\n",
    "print(x,y)\n",
    "'''minimum = min(x, y)\n",
    "m=(minimum//2)\n",
    "if((x % minimum == 0) and (y % minimum == 0)):\n",
    "  print(minimum)\n",
    "elif(x % minimum != 0) or (y % minimum != 0):\n",
    "  for i in range(m,1,-1):\n",
    "    if(x % i == 0 and y % i == 0):\n",
    "      print(i)\n",
    "else:\n",
    "  print(1)'''\n",
    "\n"
   ]
  },
  {
   "cell_type": "code",
   "execution_count": null,
   "id": "479c024f-ec53-4e1c-848d-6d6a0ec55309",
   "metadata": {},
   "outputs": [],
   "source": []
  }
 ],
 "metadata": {
  "kernelspec": {
   "display_name": "Python 3 (ipykernel)",
   "language": "python",
   "name": "python3"
  },
  "language_info": {
   "codemirror_mode": {
    "name": "ipython",
    "version": 3
   },
   "file_extension": ".py",
   "mimetype": "text/x-python",
   "name": "python",
   "nbconvert_exporter": "python",
   "pygments_lexer": "ipython3",
   "version": "3.11.4"
  }
 },
 "nbformat": 4,
 "nbformat_minor": 5
}

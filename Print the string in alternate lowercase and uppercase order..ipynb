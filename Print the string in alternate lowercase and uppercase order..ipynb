{
 "cells": [
  {
   "cell_type": "code",
   "execution_count": 1,
   "id": "4f7a0726-a99b-4594-b71b-56276e03e083",
   "metadata": {
    "tags": []
   },
   "outputs": [
    {
     "name": "stdin",
     "output_type": "stream",
     "text": [
      " abcd efgh ijkl\n"
     ]
    },
    {
     "name": "stdout",
     "output_type": "stream",
     "text": [
      "ABCD efgh IJKL\n",
      "\n"
     ]
    }
   ],
   "source": [
    "s=input()\n",
    "c=s.upper()\n",
    "l=[]\n",
    "count=1\n",
    "i=0\n",
    "w=[]\n",
    "while(i<len(c)):\n",
    "    k=i\n",
    "    if(c[i].isspace() and c[i]!='\\n'):\n",
    "      l.append(c[i])\n",
    "      count=count+1\n",
    "      if(count%2==0):\n",
    "        for j in range(k+1,len(c)):\n",
    "          i=i+1\n",
    "          if(c[j].isspace()):\n",
    "            break\n",
    "          else:\n",
    "            q=c[j].lower()\n",
    "            l.append(q)\n",
    "      else:\n",
    "        i=i+1\n",
    "        l.append(c[i])\n",
    "        i=i+1\n",
    "    else:        \n",
    "      l.append(c[i])\n",
    "      i=i+1\n",
    "if(len(s)==len(l)):       \n",
    "  print(''.join(l))\n",
    "elif((len(s)+1)==len(l)):\n",
    "  for i in range(0,len(l)-1):\n",
    "    w.append(l[i])\n",
    "print(''.join(w))"
   ]
  },
  {
   "cell_type": "code",
   "execution_count": null,
   "id": "7885c4b6-0652-4b76-9ee2-4a0313369289",
   "metadata": {},
   "outputs": [],
   "source": []
  }
 ],
 "metadata": {
  "kernelspec": {
   "display_name": "Python 3 (ipykernel)",
   "language": "python",
   "name": "python3"
  },
  "language_info": {
   "codemirror_mode": {
    "name": "ipython",
    "version": 3
   },
   "file_extension": ".py",
   "mimetype": "text/x-python",
   "name": "python",
   "nbconvert_exporter": "python",
   "pygments_lexer": "ipython3",
   "version": "3.11.4"
  }
 },
 "nbformat": 4,
 "nbformat_minor": 5
}

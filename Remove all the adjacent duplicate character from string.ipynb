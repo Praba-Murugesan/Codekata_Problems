{
 "cells": [
  {
   "cell_type": "code",
   "execution_count": null,
   "id": "688cbe3d-aa07-47a1-b4e5-7d9ba624fa14",
   "metadata": {},
   "outputs": [],
   "source": [
    "s=input()\n",
    "l=[]\n",
    "for i in range(0,len(s)):\n",
    "    if(i!=len(s)-1 and s[i]==s[i+1] or s[i]==s[i-1]):\n",
    "        continue\n",
    "    if(i!=len(s)-1 and s[i]!=s[i+1] or s[i]!=s[i-1]):\n",
    "        l.append(s[i])\n",
    "print(''.join(l))"
   ]
  }
 ],
 "metadata": {
  "kernelspec": {
   "display_name": "Python 3 (ipykernel)",
   "language": "python",
   "name": "python3"
  },
  "language_info": {
   "codemirror_mode": {
    "name": "ipython",
    "version": 3
   },
   "file_extension": ".py",
   "mimetype": "text/x-python",
   "name": "python",
   "nbconvert_exporter": "python",
   "pygments_lexer": "ipython3",
   "version": "3.11.4"
  }
 },
 "nbformat": 4,
 "nbformat_minor": 5
}

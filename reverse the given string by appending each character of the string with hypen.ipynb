{
 "cells": [
  {
   "cell_type": "code",
   "execution_count": 2,
   "id": "9172bc89-d2bb-4415-912d-edd144c2c23f",
   "metadata": {
    "tags": []
   },
   "outputs": [
    {
     "name": "stdin",
     "output_type": "stream",
     "text": [
      " codekata\n"
     ]
    },
    {
     "name": "stdout",
     "output_type": "stream",
     "text": [
      "a-t-a-k-e-d-o-c\n"
     ]
    }
   ],
   "source": [
    "S=input()\n",
    "if(len(S)<100000):\n",
    "  c=(S[::-1])\n",
    "  c.split()\n",
    "print('-'.join(c))       \n",
    "            "
   ]
  },
  {
   "cell_type": "code",
   "execution_count": null,
   "id": "abed73d3-64ee-4f4a-8498-5e1a5e9e2f00",
   "metadata": {},
   "outputs": [],
   "source": []
  }
 ],
 "metadata": {
  "kernelspec": {
   "display_name": "Python 3 (ipykernel)",
   "language": "python",
   "name": "python3"
  },
  "language_info": {
   "codemirror_mode": {
    "name": "ipython",
    "version": 3
   },
   "file_extension": ".py",
   "mimetype": "text/x-python",
   "name": "python",
   "nbconvert_exporter": "python",
   "pygments_lexer": "ipython3",
   "version": "3.11.4"
  }
 },
 "nbformat": 4,
 "nbformat_minor": 5
}

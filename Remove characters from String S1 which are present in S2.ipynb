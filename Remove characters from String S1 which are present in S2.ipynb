{
 "cells": [
  {
   "cell_type": "code",
   "execution_count": 1,
   "id": "58d1b31a",
   "metadata": {},
   "outputs": [
    {
     "name": "stdout",
     "output_type": "stream",
     "text": [
      "GUVI GEEK\n",
      "UVI\n"
     ]
    }
   ],
   "source": [
    "S1,S2=list(map(str,input().split()))\n",
    "l=[]\n",
    "for i in range(0,len(S1)):\n",
    "    count=0\n",
    "    for j in range(0,len(S2)):\n",
    "        if(S1[i]!=S2[j]):\n",
    "            count=count+1\n",
    "    if(count==len(S2)):\n",
    "        l.append(S1[i])\n",
    "if(S1==S2):\n",
    "    print('-1')\n",
    "else:\n",
    "    print(''.join(l))"
   ]
  },
  {
   "cell_type": "code",
   "execution_count": null,
   "id": "46fe9d75",
   "metadata": {},
   "outputs": [],
   "source": []
  }
 ],
 "metadata": {
  "kernelspec": {
   "display_name": "Python 3 (ipykernel)",
   "language": "python",
   "name": "python3"
  },
  "language_info": {
   "codemirror_mode": {
    "name": "ipython",
    "version": 3
   },
   "file_extension": ".py",
   "mimetype": "text/x-python",
   "name": "python",
   "nbconvert_exporter": "python",
   "pygments_lexer": "ipython3",
   "version": "3.11.4"
  }
 },
 "nbformat": 4,
 "nbformat_minor": 5
}

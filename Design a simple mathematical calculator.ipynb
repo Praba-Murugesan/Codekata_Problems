{
 "cells": [
  {
   "cell_type": "code",
   "execution_count": null,
   "id": "b10a1081",
   "metadata": {},
   "outputs": [],
   "source": [
    "C=int(input())\n",
    "N,M=list(map(int,input().split()))\n",
    "if(C==1):\n",
    "        C=N+M\n",
    "        print(C)\n",
    "if(C==2):\n",
    "        C=N-M\n",
    "        print(C)\n",
    "if(C==3):\n",
    "        C=N*M\n",
    "        print(C)\n",
    "if(C==4):\n",
    "        C=N/M\n",
    "        print(round(C))"
   ]
  }
 ],
 "metadata": {
  "kernelspec": {
   "display_name": "Python 3 (ipykernel)",
   "language": "python",
   "name": "python3"
  },
  "language_info": {
   "codemirror_mode": {
    "name": "ipython",
    "version": 3
   },
   "file_extension": ".py",
   "mimetype": "text/x-python",
   "name": "python",
   "nbconvert_exporter": "python",
   "pygments_lexer": "ipython3",
   "version": "3.11.4"
  }
 },
 "nbformat": 4,
 "nbformat_minor": 5
}

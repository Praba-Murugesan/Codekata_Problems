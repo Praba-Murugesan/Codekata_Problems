{
 "cells": [
  {
   "cell_type": "code",
   "execution_count": 1,
   "id": "2f487b0d-be46-45d0-8cca-8b9e46141acc",
   "metadata": {
    "tags": []
   },
   "outputs": [
    {
     "name": "stdin",
     "output_type": "stream",
     "text": [
      " john johnny jackie johnny john jackie jamie jamie john johnny jamie johnny john\n"
     ]
    },
    {
     "name": "stdout",
     "output_type": "stream",
     "text": [
      "john 4\n"
     ]
    }
   ],
   "source": [
    "l=list(map(str,input().split()))\n",
    "c=[]\n",
    "m=[]\n",
    "w=[]\n",
    "for i in range(0,len(l)):\n",
    "  count=1\n",
    "  if(l[i] not in c):\n",
    "    for j in range(i+1,len(l)):\n",
    "      if(l[i]==l[j]):\n",
    "        count=count+1\n",
    "        c.append(l[i])\n",
    "    m.append(count) \n",
    "w=list(dict.fromkeys(l)) \n",
    "dic={}  \n",
    "for key in w:\n",
    "    for value in m:\n",
    "        dic[key] = value\n",
    "        m.remove(value)\n",
    "        break \n",
    "print(list(dic.keys())[0],end=' ')\n",
    "print(list(dic.values())[0])\n"
   ]
  },
  {
   "cell_type": "code",
   "execution_count": null,
   "id": "aebe066d-35d2-4c10-8cbe-624c8bc66f5b",
   "metadata": {},
   "outputs": [],
   "source": []
  }
 ],
 "metadata": {
  "kernelspec": {
   "display_name": "Python 3 (ipykernel)",
   "language": "python",
   "name": "python3"
  },
  "language_info": {
   "codemirror_mode": {
    "name": "ipython",
    "version": 3
   },
   "file_extension": ".py",
   "mimetype": "text/x-python",
   "name": "python",
   "nbconvert_exporter": "python",
   "pygments_lexer": "ipython3",
   "version": "3.11.4"
  }
 },
 "nbformat": 4,
 "nbformat_minor": 5
}

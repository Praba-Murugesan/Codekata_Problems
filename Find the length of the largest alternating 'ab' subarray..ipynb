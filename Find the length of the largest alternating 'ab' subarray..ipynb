{
 "cells": [
  {
   "cell_type": "code",
   "execution_count": 47,
   "id": "6c77a604-a0c0-486e-baec-054ffe61f059",
   "metadata": {
    "tags": []
   },
   "outputs": [
    {
     "name": "stdin",
     "output_type": "stream",
     "text": [
      " sdfsababababa\n"
     ]
    },
    {
     "name": "stdout",
     "output_type": "stream",
     "text": [
      "9\n"
     ]
    }
   ],
   "source": [
    "S=input()\n",
    "count=0\n",
    "l=[]\n",
    "for i in range(0,len(S),1):\n",
    "    if(S[i]=='a' and i!=len(S)-1 and S[i+1]=='b'):\n",
    "        count=count+1\n",
    "        l.append(count)\n",
    "    elif(S[i]=='b' and S[i-1]=='a'):\n",
    "        count=count+1\n",
    "        l.append(count)\n",
    "    elif(S[i]=='a' and i==len(S)-1 and S[i-1]=='b'):\n",
    "        count=count+1\n",
    "        l.append(count)\n",
    "    else:\n",
    "        l.append(count)\n",
    "        count=0\n",
    "if(l==[]):\n",
    "    print(count)\n",
    "else:\n",
    "    c=max(l)\n",
    "    print(c)"
   ]
  },
  {
   "cell_type": "code",
   "execution_count": null,
   "id": "2809e4a9-31f3-40af-8fb8-6b30860eece7",
   "metadata": {},
   "outputs": [],
   "source": []
  }
 ],
 "metadata": {
  "kernelspec": {
   "display_name": "Python 3 (ipykernel)",
   "language": "python",
   "name": "python3"
  },
  "language_info": {
   "codemirror_mode": {
    "name": "ipython",
    "version": 3
   },
   "file_extension": ".py",
   "mimetype": "text/x-python",
   "name": "python",
   "nbconvert_exporter": "python",
   "pygments_lexer": "ipython3",
   "version": "3.11.4"
  }
 },
 "nbformat": 4,
 "nbformat_minor": 5
}

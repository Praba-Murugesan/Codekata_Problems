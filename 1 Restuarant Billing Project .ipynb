{
 "cells": [
  {
   "cell_type": "code",
   "execution_count": 3,
   "id": "98d1ecc1",
   "metadata": {},
   "outputs": [
    {
     "name": "stdout",
     "output_type": "stream",
     "text": [
      "pongal 2\n",
      "70\n",
      "bill including GST 70.05\n"
     ]
    }
   ],
   "source": [
    "l=list(map(str,input().split()))\n",
    "s=[]\n",
    "m=[]\n",
    "sum=0\n",
    "for i in range(0,len(l)):\n",
    "  if(i%2==0):\n",
    "    m.append(l[i])\n",
    "  else:\n",
    "    s.append(l[i])\n",
    "for i in range(len(m)):\n",
    "  if(m[i]=='oniondosa'):\n",
    "    sum=sum+90*int(s[i])\n",
    "  if(m[i]=='ravadosa'):\n",
    "    sum=sum+70*int(s[i])    \n",
    "  if(m[i]=='pongal'):\n",
    "    sum=sum+35*int(s[i])\n",
    "if(sum==0):\n",
    "  print('not in menu') \n",
    "else:\n",
    "  print(sum)\n",
    "  GST=sum+(5/100)  \n",
    "  print(\"bill including GST\",GST)\n"
   ]
  },
  {
   "cell_type": "code",
   "execution_count": null,
   "id": "93895445",
   "metadata": {},
   "outputs": [],
   "source": []
  },
  {
   "cell_type": "code",
   "execution_count": null,
   "id": "d8e9b30e",
   "metadata": {},
   "outputs": [],
   "source": []
  },
  {
   "cell_type": "code",
   "execution_count": null,
   "id": "077f67eb",
   "metadata": {},
   "outputs": [],
   "source": []
  }
 ],
 "metadata": {
  "kernelspec": {
   "display_name": "Python 3 (ipykernel)",
   "language": "python",
   "name": "python3"
  },
  "language_info": {
   "codemirror_mode": {
    "name": "ipython",
    "version": 3
   },
   "file_extension": ".py",
   "mimetype": "text/x-python",
   "name": "python",
   "nbconvert_exporter": "python",
   "pygments_lexer": "ipython3",
   "version": "3.11.4"
  }
 },
 "nbformat": 4,
 "nbformat_minor": 5
}

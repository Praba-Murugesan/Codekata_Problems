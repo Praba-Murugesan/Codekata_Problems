{
 "cells": [
  {
   "cell_type": "code",
   "execution_count": 1,
   "id": "5088e84e-b150-4a68-9ade-a5f5e685e846",
   "metadata": {
    "tags": []
   },
   "outputs": [
    {
     "name": "stdin",
     "output_type": "stream",
     "text": [
      " XCODE\n"
     ]
    },
    {
     "name": "stdout",
     "output_type": "stream",
     "text": [
      "XOE CD\n"
     ]
    }
   ],
   "source": [
    "S=input()\n",
    "l=[]\n",
    "for i in range(0,len(S)):\n",
    "    if(i%2==0):\n",
    "        l.append(S[i])\n",
    "l.append(' ')\n",
    "for i in range(0,len(S)):\n",
    "    if(i%2!=0):\n",
    "        l.append(S[i])\n",
    "print(''.join(l))    \n"
   ]
  },
  {
   "cell_type": "code",
   "execution_count": null,
   "id": "147d0073-eca7-499d-84d8-a29a3574bd1c",
   "metadata": {},
   "outputs": [],
   "source": []
  }
 ],
 "metadata": {
  "kernelspec": {
   "display_name": "Python 3 (ipykernel)",
   "language": "python",
   "name": "python3"
  },
  "language_info": {
   "codemirror_mode": {
    "name": "ipython",
    "version": 3
   },
   "file_extension": ".py",
   "mimetype": "text/x-python",
   "name": "python",
   "nbconvert_exporter": "python",
   "pygments_lexer": "ipython3",
   "version": "3.11.4"
  }
 },
 "nbformat": 4,
 "nbformat_minor": 5
}

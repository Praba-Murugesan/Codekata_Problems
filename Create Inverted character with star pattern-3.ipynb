{
 "cells": [
  {
   "cell_type": "code",
   "execution_count": 1,
   "id": "1da2a10a",
   "metadata": {},
   "outputs": [
    {
     "name": "stdout",
     "output_type": "stream",
     "text": [
      "5\n",
      "bbbb*bbbb\n",
      "bbb***bbb\n",
      "bb*****bb\n",
      "b*******b\n",
      "*********"
     ]
    }
   ],
   "source": [
    "R=int(input())\n",
    "l=[]\n",
    "if(R%2!=0 and 1<=R<=100):\n",
    "  for i in range(0,R):\n",
    "    if(i!=0):\n",
    "      print(end='\\n')\n",
    "    count=0\n",
    "    for j in range(0,R-i-1):\n",
    "        print('b',end='')\n",
    "        count=count+1   \n",
    "    b=0\n",
    "    for k in range(0,(i+1)*2-1):\n",
    "      if(b<((i+1)*2-1)):\n",
    "        print('*',end='')\n",
    "        count=count+1\n",
    "        b=b+1\n",
    "    for j in range(count,R*2-1):\n",
    "      print('b',end='')"
   ]
  },
  {
   "cell_type": "code",
   "execution_count": null,
   "id": "35cd0c15",
   "metadata": {},
   "outputs": [],
   "source": []
  }
 ],
 "metadata": {
  "kernelspec": {
   "display_name": "Python 3 (ipykernel)",
   "language": "python",
   "name": "python3"
  },
  "language_info": {
   "codemirror_mode": {
    "name": "ipython",
    "version": 3
   },
   "file_extension": ".py",
   "mimetype": "text/x-python",
   "name": "python",
   "nbconvert_exporter": "python",
   "pygments_lexer": "ipython3",
   "version": "3.11.4"
  }
 },
 "nbformat": 4,
 "nbformat_minor": 5
}

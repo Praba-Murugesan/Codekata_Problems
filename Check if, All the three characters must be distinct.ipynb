{
 "cells": [
  {
   "cell_type": "code",
   "execution_count": null,
   "id": "f0bb545a-b776-4ab1-b98f-9d823dd74b09",
   "metadata": {},
   "outputs": [],
   "source": [
    "s=list(map(str,input()))\n",
    "c=0\n",
    "if(len(s)==3):\n",
    "  for i in range(0,len(s)-1):\n",
    "    for j in range(i+1,len(s)): \n",
    "      if((s[i]!=s[j] and s[i]!=s[j] and s[i]!=s[j]) or ( s[i]==s[j] and s[i].isupper() and s[j].islower()) or ( s[i]==s[j] and s[i].islower() and s[j].isupper())):\n",
    "        c=c+1\n",
    "if(c==3):\n",
    "  print(1)\n",
    "else:\n",
    "  print(0)\n",
    "        "
   ]
  }
 ],
 "metadata": {
  "kernelspec": {
   "display_name": "Python 3 (ipykernel)",
   "language": "python",
   "name": "python3"
  },
  "language_info": {
   "codemirror_mode": {
    "name": "ipython",
    "version": 3
   },
   "file_extension": ".py",
   "mimetype": "text/x-python",
   "name": "python",
   "nbconvert_exporter": "python",
   "pygments_lexer": "ipython3",
   "version": "3.11.4"
  }
 },
 "nbformat": 4,
 "nbformat_minor": 5
}

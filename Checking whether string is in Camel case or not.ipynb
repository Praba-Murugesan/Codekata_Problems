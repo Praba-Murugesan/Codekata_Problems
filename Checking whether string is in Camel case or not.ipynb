{
 "cells": [
  {
   "cell_type": "code",
   "execution_count": 7,
   "id": "d7cdedd6-6ccb-4abc-90fe-cf0fff8c4458",
   "metadata": {
    "tags": []
   },
   "outputs": [
    {
     "name": "stdin",
     "output_type": "stream",
     "text": [
      " ThisIsPraba\n"
     ]
    },
    {
     "name": "stdout",
     "output_type": "stream",
     "text": [
      "yes\n"
     ]
    }
   ],
   "source": [
    "s=input()\n",
    "l=[]\n",
    "l.append(s[0].upper())\n",
    "i=1\n",
    "while(i<len(s)):\n",
    "    count=0\n",
    "    if(s[i]==' ' or s[i]=='-' or s[i]=='_'):\n",
    "        l.append(s[i+1].upper())\n",
    "        i=i+2\n",
    "    elif(s[i].isalnum()):\n",
    "        l.append(s[i])\n",
    "        i=i+1 \n",
    "c=''.join(l) \n",
    "if(c==s):\n",
    "    print('yes')\n",
    "else:\n",
    "    print('no')"
   ]
  },
  {
   "cell_type": "code",
   "execution_count": null,
   "id": "5b68bc91-1b5e-4406-828a-02d9596f90a2",
   "metadata": {},
   "outputs": [],
   "source": []
  }
 ],
 "metadata": {
  "kernelspec": {
   "display_name": "Python 3 (ipykernel)",
   "language": "python",
   "name": "python3"
  },
  "language_info": {
   "codemirror_mode": {
    "name": "ipython",
    "version": 3
   },
   "file_extension": ".py",
   "mimetype": "text/x-python",
   "name": "python",
   "nbconvert_exporter": "python",
   "pygments_lexer": "ipython3",
   "version": "3.11.4"
  }
 },
 "nbformat": 4,
 "nbformat_minor": 5
}

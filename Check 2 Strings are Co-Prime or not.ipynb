{
 "cells": [
  {
   "cell_type": "code",
   "execution_count": 4,
   "id": "7bb618c2-7b86-4416-872e-d6e7bae6008a",
   "metadata": {
    "tags": []
   },
   "outputs": [
    {
     "name": "stdin",
     "output_type": "stream",
     "text": [
      " guvis guv\n"
     ]
    },
    {
     "name": "stdout",
     "output_type": "stream",
     "text": [
      "yes\n"
     ]
    }
   ],
   "source": [
    "S,X=list(map(str,input().split()))\n",
    "n1=len(S)\n",
    "n2=len(X)\n",
    "count=0\n",
    "for i in range(2,100000):\n",
    "    if(n1%i==0 and n2%i==0):\n",
    "        count=1\n",
    "        break\n",
    "if(count==0):\n",
    "    print('yes')\n",
    "else:\n",
    "    print('no')\n",
    "        "
   ]
  },
  {
   "cell_type": "code",
   "execution_count": null,
   "id": "b82fb585-21e0-41c7-9f02-ed00d14c76f3",
   "metadata": {},
   "outputs": [],
   "source": []
  }
 ],
 "metadata": {
  "kernelspec": {
   "display_name": "Python 3 (ipykernel)",
   "language": "python",
   "name": "python3"
  },
  "language_info": {
   "codemirror_mode": {
    "name": "ipython",
    "version": 3
   },
   "file_extension": ".py",
   "mimetype": "text/x-python",
   "name": "python",
   "nbconvert_exporter": "python",
   "pygments_lexer": "ipython3",
   "version": "3.11.4"
  }
 },
 "nbformat": 4,
 "nbformat_minor": 5
}

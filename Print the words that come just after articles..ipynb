{
 "cells": [
  {
   "cell_type": "code",
   "execution_count": 1,
   "id": "f5bdea3b-ebb9-40ad-af74-45004fe53879",
   "metadata": {
    "tags": []
   },
   "outputs": [
    {
     "name": "stdin",
     "output_type": "stream",
     "text": [
      " The sun rises in the east\n"
     ]
    },
    {
     "name": "stdout",
     "output_type": "stream",
     "text": [
      "sun east\n"
     ]
    }
   ],
   "source": [
    "s=input().split()\n",
    "l=[]\n",
    "for i in range(0,len(s)):\n",
    "    if((s[i] in ('the')) or (s[i] in 'a') or (s[i] in 'an') or\\\n",
    "    (s[i] in 'An') or (s[i] in 'A') or (s[i] in 'The')):\n",
    "        l.append(s[i+1])\n",
    "print(*l)       "
   ]
  },
  {
   "cell_type": "code",
   "execution_count": null,
   "id": "986acefb-327d-4e5c-98f1-cac6ee93bdb6",
   "metadata": {},
   "outputs": [],
   "source": []
  }
 ],
 "metadata": {
  "kernelspec": {
   "display_name": "Python 3 (ipykernel)",
   "language": "python",
   "name": "python3"
  },
  "language_info": {
   "codemirror_mode": {
    "name": "ipython",
    "version": 3
   },
   "file_extension": ".py",
   "mimetype": "text/x-python",
   "name": "python",
   "nbconvert_exporter": "python",
   "pygments_lexer": "ipython3",
   "version": "3.11.4"
  }
 },
 "nbformat": 4,
 "nbformat_minor": 5
}

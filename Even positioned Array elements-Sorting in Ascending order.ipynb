{
 "cells": [
  {
   "cell_type": "code",
   "execution_count": 1,
   "id": "bbf1c263",
   "metadata": {},
   "outputs": [
    {
     "name": "stdout",
     "output_type": "stream",
     "text": [
      "5\n",
      "3 9 1 44 6\n",
      "1 9 3 44 6\n"
     ]
    }
   ],
   "source": [
    "n=int(input())\n",
    "a=list(map(int,input().split()))\n",
    "s=[]\n",
    "for i in range(0,n):\n",
    "  if(i%2==0 or i==0):\n",
    "    for j in range(i+2,n,2):\n",
    "        if(a[i]>a[j]):\n",
    "            c=a[j]\n",
    "            a[j]=a[i]\n",
    "            a[i]=c\n",
    "    s.append(a[i])\n",
    "  else:\n",
    "    s.append(a[i])\n",
    "print(*a)\n",
    "            \n",
    "    "
   ]
  },
  {
   "cell_type": "code",
   "execution_count": null,
   "id": "ec69e013",
   "metadata": {},
   "outputs": [],
   "source": []
  }
 ],
 "metadata": {
  "kernelspec": {
   "display_name": "Python 3 (ipykernel)",
   "language": "python",
   "name": "python3"
  },
  "language_info": {
   "codemirror_mode": {
    "name": "ipython",
    "version": 3
   },
   "file_extension": ".py",
   "mimetype": "text/x-python",
   "name": "python",
   "nbconvert_exporter": "python",
   "pygments_lexer": "ipython3",
   "version": "3.11.4"
  }
 },
 "nbformat": 4,
 "nbformat_minor": 5
}

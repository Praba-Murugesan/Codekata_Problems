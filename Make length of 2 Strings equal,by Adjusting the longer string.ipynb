{
 "cells": [
  {
   "cell_type": "code",
   "execution_count": 38,
   "id": "4fa9525f",
   "metadata": {},
   "outputs": [
    {
     "name": "stdout",
     "output_type": "stream",
     "text": [
      "guvi dfg\n",
      "geeks\n",
      "guvi geeks\n"
     ]
    }
   ],
   "source": [
    "S1=input()\n",
    "S2=input()\n",
    "a=len(S1)\n",
    "b=len(S2)\n",
    "l=[]\n",
    "if(a<b):\n",
    "    for i in range(0,a):\n",
    "        l.append(S2[i])\n",
    "    print(S1+(''.join(l)))\n",
    "if(b<a):\n",
    "    for i in range(0,b):\n",
    "        l.append(S1[i])\n",
    "    print((''.join(l))+S2)\n",
    "\n",
    "\n",
    "    \n",
    "\n",
    "   \n"
   ]
  },
  {
   "cell_type": "code",
   "execution_count": null,
   "id": "95c31b88",
   "metadata": {},
   "outputs": [],
   "source": []
  },
  {
   "cell_type": "code",
   "execution_count": null,
   "id": "9c2e7a1f",
   "metadata": {},
   "outputs": [],
   "source": []
  },
  {
   "cell_type": "code",
   "execution_count": null,
   "id": "e7411cde",
   "metadata": {},
   "outputs": [],
   "source": []
  }
 ],
 "metadata": {
  "kernelspec": {
   "display_name": "Python 3 (ipykernel)",
   "language": "python",
   "name": "python3"
  },
  "language_info": {
   "codemirror_mode": {
    "name": "ipython",
    "version": 3
   },
   "file_extension": ".py",
   "mimetype": "text/x-python",
   "name": "python",
   "nbconvert_exporter": "python",
   "pygments_lexer": "ipython3",
   "version": "3.11.4"
  }
 },
 "nbformat": 4,
 "nbformat_minor": 5
}

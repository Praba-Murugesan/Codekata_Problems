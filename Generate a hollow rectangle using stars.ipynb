{
 "cells": [
  {
   "cell_type": "code",
   "execution_count": 1,
   "id": "0fe4bf8f",
   "metadata": {},
   "outputs": [
    {
     "name": "stdout",
     "output_type": "stream",
     "text": [
      "3 5\n",
      "* * * * *\n",
      "*       *\n",
      "* * * * *\n"
     ]
    }
   ],
   "source": [
    "R,C=list(map(int,input().split()))\n",
    "for i in range(0,R):\n",
    "    l=[]\n",
    "    for j in range(0,C):\n",
    "      if(i==0 or i==R-1):\n",
    "          l.append('*')\n",
    "      elif(j==0):\n",
    "          l.append('*')\n",
    "      elif(j!=C-1):\n",
    "        for k in range(0,R-2):\n",
    "          l.append(' ')\n",
    "      elif(j==C-1) :\n",
    "        l.append('*')   \n",
    "       \n",
    "    print(' '.join(l))"
   ]
  },
  {
   "cell_type": "code",
   "execution_count": null,
   "id": "41c7931f",
   "metadata": {},
   "outputs": [],
   "source": []
  }
 ],
 "metadata": {
  "kernelspec": {
   "display_name": "Python 3 (ipykernel)",
   "language": "python",
   "name": "python3"
  },
  "language_info": {
   "codemirror_mode": {
    "name": "ipython",
    "version": 3
   },
   "file_extension": ".py",
   "mimetype": "text/x-python",
   "name": "python",
   "nbconvert_exporter": "python",
   "pygments_lexer": "ipython3",
   "version": "3.11.4"
  }
 },
 "nbformat": 4,
 "nbformat_minor": 5
}

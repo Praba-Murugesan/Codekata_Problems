{
 "cells": [
  {
   "cell_type": "code",
   "execution_count": 1,
   "id": "7e26d5db-9a2e-4c11-9212-ab1a05a25fd1",
   "metadata": {
    "tags": []
   },
   "outputs": [
    {
     "name": "stdin",
     "output_type": "stream",
     "text": [
      " string 2\n"
     ]
    },
    {
     "name": "stdout",
     "output_type": "stream",
     "text": [
      "sTrInG\n"
     ]
    }
   ],
   "source": [
    "string,K=list(map(str,input().split()))\n",
    "l=[]\n",
    "d=int(K)\n",
    "if(d!=0):\n",
    "  for i in range(0,len(string)):\n",
    "    if(i<len(string) and (i+1)%d==0):\n",
    "      l.append((string[i].upper()))\n",
    "    else:\n",
    "      l.append(string[i])\n",
    "if(d==0):\n",
    "  print(string)\n",
    "else:\n",
    "    print(''.join(l))"
   ]
  },
  {
   "cell_type": "code",
   "execution_count": null,
   "id": "a33f3188-152d-4248-b5d9-d0d236895f9f",
   "metadata": {},
   "outputs": [],
   "source": []
  }
 ],
 "metadata": {
  "kernelspec": {
   "display_name": "Python 3 (ipykernel)",
   "language": "python",
   "name": "python3"
  },
  "language_info": {
   "codemirror_mode": {
    "name": "ipython",
    "version": 3
   },
   "file_extension": ".py",
   "mimetype": "text/x-python",
   "name": "python",
   "nbconvert_exporter": "python",
   "pygments_lexer": "ipython3",
   "version": "3.11.4"
  }
 },
 "nbformat": 4,
 "nbformat_minor": 5
}

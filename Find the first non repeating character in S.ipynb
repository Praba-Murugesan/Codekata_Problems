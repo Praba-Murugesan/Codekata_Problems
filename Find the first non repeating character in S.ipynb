{
 "cells": [
  {
   "cell_type": "code",
   "execution_count": 1,
   "id": "a0e4e261-dfbc-4a07-86b5-9b64cd883082",
   "metadata": {
    "tags": []
   },
   "outputs": [
    {
     "name": "stdin",
     "output_type": "stream",
     "text": [
      " apple\n"
     ]
    },
    {
     "name": "stdout",
     "output_type": "stream",
     "text": [
      "a\n"
     ]
    }
   ],
   "source": [
    "s=input()\n",
    "l=[]\n",
    "d=0\n",
    "for i in range(0,len(s)):\n",
    "  c=0\n",
    "  if(s[i] not in l):\n",
    "    for j in range(i+1,len(s)):\n",
    "        if(s[i]!=s[j]):\n",
    "            c=c+1\n",
    "          \n",
    "    if(c==(len(s)-1-i)):\n",
    "        print(s[i])\n",
    "        break\n",
    "    else:\n",
    "        l.append(s[i])\n",
    "        \n",
    "        d=d+1 \n",
    "  elif((s[i] not in l) and i==(len(s)-1)):\n",
    "    print(s[i])\n",
    "if(s[i] in l):\n",
    "    print(-1)"
   ]
  },
  {
   "cell_type": "code",
   "execution_count": null,
   "id": "b03ffcde-163b-4c4b-aef7-78a0b34d4bd7",
   "metadata": {},
   "outputs": [],
   "source": []
  }
 ],
 "metadata": {
  "kernelspec": {
   "display_name": "Python 3 (ipykernel)",
   "language": "python",
   "name": "python3"
  },
  "language_info": {
   "codemirror_mode": {
    "name": "ipython",
    "version": 3
   },
   "file_extension": ".py",
   "mimetype": "text/x-python",
   "name": "python",
   "nbconvert_exporter": "python",
   "pygments_lexer": "ipython3",
   "version": "3.11.4"
  }
 },
 "nbformat": 4,
 "nbformat_minor": 5
}

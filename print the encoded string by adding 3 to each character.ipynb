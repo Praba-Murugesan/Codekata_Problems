{
 "cells": [
  {
   "cell_type": "code",
   "execution_count": 1,
   "id": "ce2b07c8-d7a5-44ed-92b6-f3ec49879116",
   "metadata": {
    "tags": []
   },
   "outputs": [
    {
     "name": "stdin",
     "output_type": "stream",
     "text": [
      " RADAR\n"
     ]
    },
    {
     "name": "stdout",
     "output_type": "stream",
     "text": [
      "UDGDU\n"
     ]
    }
   ],
   "source": [
    "S=input()\n",
    "l=[]\n",
    "N=len(S)\n",
    "if(1<=N<=100000):\n",
    "    for i in range(0,len(S)):\n",
    "        l.append(ord(S[i]))\n",
    "    for i in range(0,len(S)):\n",
    "        l[i]=l[i]+3\n",
    "        if(l[i]>90):\n",
    "          l[i]=l[i]-26\n",
    "        l[i]=chr(int(l[i]))\n",
    "print(''.join(l))"
   ]
  },
  {
   "cell_type": "code",
   "execution_count": null,
   "id": "73051040-b79b-4f87-8cad-d24d095eb900",
   "metadata": {},
   "outputs": [],
   "source": []
  }
 ],
 "metadata": {
  "kernelspec": {
   "display_name": "Python 3 (ipykernel)",
   "language": "python",
   "name": "python3"
  },
  "language_info": {
   "codemirror_mode": {
    "name": "ipython",
    "version": 3
   },
   "file_extension": ".py",
   "mimetype": "text/x-python",
   "name": "python",
   "nbconvert_exporter": "python",
   "pygments_lexer": "ipython3",
   "version": "3.11.4"
  }
 },
 "nbformat": 4,
 "nbformat_minor": 5
}

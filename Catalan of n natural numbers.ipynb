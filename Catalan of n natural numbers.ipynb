{
 "cells": [
  {
   "cell_type": "code",
   "execution_count": 23,
   "id": "3d5d7e98-44a8-4d11-83ad-be009529d380",
   "metadata": {
    "tags": []
   },
   "outputs": [
    {
     "name": "stdin",
     "output_type": "stream",
     "text": [
      " 2\n"
     ]
    },
    {
     "name": "stdout",
     "output_type": "stream",
     "text": [
      "1 1 2\n"
     ]
    }
   ],
   "source": [
    "def catalan(n):\n",
    "    if n <=0:\n",
    "        return 1\n",
    " \n",
    "    # Catalan(n) is the sum of catalan(i)*catalan(n-i-1)\n",
    "    res = 0\n",
    "    for i in range(n):\n",
    "        res += catalan(i) * catalan(n-i-1)\n",
    "    else:\n",
    "        return res\n",
    "    \n",
    "N=int(input()) \n",
    "l=[]\n",
    "for i in range(N+1):\n",
    "    r=catalan(i)\n",
    "    l.append(r)\n",
    "print(*l)"
   ]
  },
  {
   "cell_type": "code",
   "execution_count": null,
   "id": "3ae14d5a-8fb8-485f-b802-77592e89e3f0",
   "metadata": {},
   "outputs": [],
   "source": []
  }
 ],
 "metadata": {
  "kernelspec": {
   "display_name": "Python 3 (ipykernel)",
   "language": "python",
   "name": "python3"
  },
  "language_info": {
   "codemirror_mode": {
    "name": "ipython",
    "version": 3
   },
   "file_extension": ".py",
   "mimetype": "text/x-python",
   "name": "python",
   "nbconvert_exporter": "python",
   "pygments_lexer": "ipython3",
   "version": "3.11.4"
  }
 },
 "nbformat": 4,
 "nbformat_minor": 5
}

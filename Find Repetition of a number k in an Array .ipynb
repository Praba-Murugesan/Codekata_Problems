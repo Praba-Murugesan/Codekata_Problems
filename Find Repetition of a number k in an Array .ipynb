{
 "cells": [
  {
   "cell_type": "code",
   "execution_count": 1,
   "id": "687e9d48",
   "metadata": {},
   "outputs": [
    {
     "name": "stdout",
     "output_type": "stream",
     "text": [
      "6 2\n",
      "1 2 3 5 7 8\n",
      "0\n"
     ]
    }
   ],
   "source": [
    "N,K=map(int,input().split())\n",
    "l=list(map(int,input().split()))\n",
    "count=-1\n",
    "found=0\n",
    "for i in range(0,N):\n",
    "  if(l[i]==K):\n",
    "    count=count+1\n",
    "    found=1\n",
    "if(found==0):\n",
    "  print('-1')  \n",
    "else:\n",
    "  print(count)    "
   ]
  },
  {
   "cell_type": "code",
   "execution_count": null,
   "id": "d944f2ab",
   "metadata": {},
   "outputs": [],
   "source": []
  }
 ],
 "metadata": {
  "kernelspec": {
   "display_name": "Python 3 (ipykernel)",
   "language": "python",
   "name": "python3"
  },
  "language_info": {
   "codemirror_mode": {
    "name": "ipython",
    "version": 3
   },
   "file_extension": ".py",
   "mimetype": "text/x-python",
   "name": "python",
   "nbconvert_exporter": "python",
   "pygments_lexer": "ipython3",
   "version": "3.11.4"
  }
 },
 "nbformat": 4,
 "nbformat_minor": 5
}

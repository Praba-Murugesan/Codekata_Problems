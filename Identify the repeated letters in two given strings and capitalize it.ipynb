{
 "cells": [
  {
   "cell_type": "code",
   "execution_count": 2,
   "id": "d06b3216-d7a2-471d-9000-fbbee7f13214",
   "metadata": {
    "tags": []
   },
   "outputs": [
    {
     "name": "stdin",
     "output_type": "stream",
     "text": [
      " computer program\n"
     ]
    },
    {
     "name": "stdout",
     "output_type": "stream",
     "text": [
      "cOMPuteR PROgRaM"
     ]
    }
   ],
   "source": [
    "s = str(input())\n",
    "\n",
    "for i in range(len(s)):\n",
    "   if s[i] == \" \":\n",
    "       print(\" \",end=\"\")\n",
    "   else:\n",
    "       count = s.count(s[i])\n",
    "       if count>1:\n",
    "           print(s[i].upper(),end=\"\")\n",
    "       else:\n",
    "           print(s[i],end='')"
   ]
  },
  {
   "cell_type": "code",
   "execution_count": null,
   "id": "dc6b8c51-2b2f-478f-99d6-66abe771ce5c",
   "metadata": {},
   "outputs": [],
   "source": []
  }
 ],
 "metadata": {
  "kernelspec": {
   "display_name": "Python 3 (ipykernel)",
   "language": "python",
   "name": "python3"
  },
  "language_info": {
   "codemirror_mode": {
    "name": "ipython",
    "version": 3
   },
   "file_extension": ".py",
   "mimetype": "text/x-python",
   "name": "python",
   "nbconvert_exporter": "python",
   "pygments_lexer": "ipython3",
   "version": "3.11.4"
  }
 },
 "nbformat": 4,
 "nbformat_minor": 5
}

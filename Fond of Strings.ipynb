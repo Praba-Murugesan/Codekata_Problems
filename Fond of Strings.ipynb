{
 "cells": [
  {
   "cell_type": "code",
   "execution_count": 1,
   "id": "11374657-ed49-47b2-a29d-a8ff1eedbcf6",
   "metadata": {
    "tags": []
   },
   "outputs": [
    {
     "name": "stdin",
     "output_type": "stream",
     "text": [
      " jennyfer\n"
     ]
    },
    {
     "name": "stdout",
     "output_type": "stream",
     "text": [
      "Refynnej\n"
     ]
    }
   ],
   "source": [
    "s=input().strip()\n",
    "print(s[-1].upper()+s[-2:0:-1]+s[0])"
   ]
  },
  {
   "cell_type": "code",
   "execution_count": null,
   "id": "1abb29f2-4e37-410a-b40a-c9b2b3ae39c7",
   "metadata": {},
   "outputs": [],
   "source": []
  }
 ],
 "metadata": {
  "kernelspec": {
   "display_name": "Python 3 (ipykernel)",
   "language": "python",
   "name": "python3"
  },
  "language_info": {
   "codemirror_mode": {
    "name": "ipython",
    "version": 3
   },
   "file_extension": ".py",
   "mimetype": "text/x-python",
   "name": "python",
   "nbconvert_exporter": "python",
   "pygments_lexer": "ipython3",
   "version": "3.11.4"
  }
 },
 "nbformat": 4,
 "nbformat_minor": 5
}

{
 "cells": [
  {
   "cell_type": "code",
   "execution_count": 1,
   "id": "848dc0ce-2f41-4f5f-8b2d-7ba29d1e617a",
   "metadata": {
    "tags": []
   },
   "outputs": [
    {
     "name": "stdin",
     "output_type": "stream",
     "text": [
      " {({})}\n"
     ]
    },
    {
     "name": "stdout",
     "output_type": "stream",
     "text": [
      "1\n"
     ]
    }
   ],
   "source": [
    "s=input()\n",
    "a=0\n",
    "b=0\n",
    "c=0\n",
    "d=0\n",
    "l1=[]\n",
    "l2=[]\n",
    "for i in range(0,len(s)-1):\n",
    "  if((s[i])=='{'):\n",
    "    a=a+1\n",
    "    for j in range(i+1,len(s)):\n",
    "      if(s[j]=='}' and (j not in l1)):\n",
    "        b=b+1\n",
    "        l1.append(j)\n",
    "        break  \n",
    "  if((s[i])=='('):\n",
    "    c=c+1\n",
    "    for j in range(i+1,len(s)):\n",
    "      if(s[j]==')' and (j not in l2)):\n",
    "        d=d+1\n",
    "        l2.append(j)\n",
    "        break  \n",
    "if((a!=b or (a==0 or b==0))):\n",
    "  print(0)\n",
    "if(a==b and c==d and (a!=0 and b!=0)):\n",
    "  print(1)"
   ]
  },
  {
   "cell_type": "code",
   "execution_count": null,
   "id": "3ca4cd08-74c6-4642-9a34-9a2214933034",
   "metadata": {},
   "outputs": [],
   "source": []
  }
 ],
 "metadata": {
  "kernelspec": {
   "display_name": "Python 3 (ipykernel)",
   "language": "python",
   "name": "python3"
  },
  "language_info": {
   "codemirror_mode": {
    "name": "ipython",
    "version": 3
   },
   "file_extension": ".py",
   "mimetype": "text/x-python",
   "name": "python",
   "nbconvert_exporter": "python",
   "pygments_lexer": "ipython3",
   "version": "3.11.4"
  }
 },
 "nbformat": 4,
 "nbformat_minor": 5
}

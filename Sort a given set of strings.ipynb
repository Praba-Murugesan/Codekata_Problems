{
 "cells": [
  {
   "cell_type": "code",
   "execution_count": 1,
   "id": "cb4a86e5-9a76-4a2a-a990-6e97fcf4c4ac",
   "metadata": {
    "tags": []
   },
   "outputs": [
    {
     "name": "stdin",
     "output_type": "stream",
     "text": [
      " 3\n",
      " InfinityWar EndGame Avengers\n"
     ]
    },
    {
     "name": "stdout",
     "output_type": "stream",
     "text": [
      "Avengers EndGame InfinityWar\n"
     ]
    }
   ],
   "source": [
    "N=int(input())\n",
    "a=input().split()\n",
    "a.sort()\n",
    "print(*a)\n",
    "\n",
    "    "
   ]
  },
  {
   "cell_type": "code",
   "execution_count": null,
   "id": "90096d4c-8259-418f-8bdc-fd6122637dcd",
   "metadata": {},
   "outputs": [],
   "source": []
  }
 ],
 "metadata": {
  "kernelspec": {
   "display_name": "Python 3 (ipykernel)",
   "language": "python",
   "name": "python3"
  },
  "language_info": {
   "codemirror_mode": {
    "name": "ipython",
    "version": 3
   },
   "file_extension": ".py",
   "mimetype": "text/x-python",
   "name": "python",
   "nbconvert_exporter": "python",
   "pygments_lexer": "ipython3",
   "version": "3.11.4"
  }
 },
 "nbformat": 4,
 "nbformat_minor": 5
}

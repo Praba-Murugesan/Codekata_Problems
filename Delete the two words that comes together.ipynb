{
 "cells": [
  {
   "cell_type": "code",
   "execution_count": 1,
   "id": "771c7e24-ff1c-4025-a6fd-0eaeeed669df",
   "metadata": {
    "tags": []
   },
   "outputs": [
    {
     "name": "stdin",
     "output_type": "stream",
     "text": [
      " I am john cena cena john\n"
     ]
    },
    {
     "name": "stdout",
     "output_type": "stream",
     "text": [
      "I am\n"
     ]
    }
   ],
   "source": [
    "def rec(l):\n",
    "    m=[]\n",
    "    n=[]\n",
    "    for i in range(0,len(l)-1):\n",
    "        if(l[i]==l[i+1]):\n",
    "            m.append(l[i])\n",
    "    for i in range(0,len(l)):\n",
    "        if(l[i] not in m or (l[i]!=l[i-1] and l[i]!=l[i+1])):\n",
    "            n.append(l[i])\n",
    "    if(m!=[]):\n",
    "        rec(n)\n",
    "    elif(n==[]):\n",
    "        print('-1')\n",
    "    else:\n",
    "        print(*n)\n",
    "s=list(map(str,input().split()))\n",
    "v=[]\n",
    "rec(s)\n"
   ]
  },
  {
   "cell_type": "code",
   "execution_count": null,
   "id": "63ca1c70-49c9-4843-9f41-d55e0fed19d6",
   "metadata": {},
   "outputs": [],
   "source": []
  }
 ],
 "metadata": {
  "kernelspec": {
   "display_name": "Python 3 (ipykernel)",
   "language": "python",
   "name": "python3"
  },
  "language_info": {
   "codemirror_mode": {
    "name": "ipython",
    "version": 3
   },
   "file_extension": ".py",
   "mimetype": "text/x-python",
   "name": "python",
   "nbconvert_exporter": "python",
   "pygments_lexer": "ipython3",
   "version": "3.11.4"
  }
 },
 "nbformat": 4,
 "nbformat_minor": 5
}

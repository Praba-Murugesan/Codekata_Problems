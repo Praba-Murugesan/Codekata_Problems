{
 "cells": [
  {
   "cell_type": "code",
   "execution_count": 2,
   "id": "f0209905-3eb1-486d-a5ee-6fd345b966b5",
   "metadata": {
    "tags": []
   },
   "outputs": [
    {
     "name": "stdin",
     "output_type": "stream",
     "text": [
      " aa  ab ba\n"
     ]
    },
    {
     "name": "stdout",
     "output_type": "stream",
     "text": [
      "aa ab ba\n"
     ]
    }
   ],
   "source": [
    "s=input().split()\n",
    "l=[]\n",
    "for i in range(0,len(s)):\n",
    "    if(s[i].isalnum()):\n",
    "        l.append(s[i])\n",
    "    if(s[i-1].isalnum() and s[i].isspace()):\n",
    "        l.append(s[i])\n",
    "print(*l) "
   ]
  },
  {
   "cell_type": "code",
   "execution_count": null,
   "id": "4210500a-66ad-40e6-8c3a-14bc8f276dfb",
   "metadata": {},
   "outputs": [],
   "source": []
  }
 ],
 "metadata": {
  "kernelspec": {
   "display_name": "Python 3 (ipykernel)",
   "language": "python",
   "name": "python3"
  },
  "language_info": {
   "codemirror_mode": {
    "name": "ipython",
    "version": 3
   },
   "file_extension": ".py",
   "mimetype": "text/x-python",
   "name": "python",
   "nbconvert_exporter": "python",
   "pygments_lexer": "ipython3",
   "version": "3.11.4"
  }
 },
 "nbformat": 4,
 "nbformat_minor": 5
}

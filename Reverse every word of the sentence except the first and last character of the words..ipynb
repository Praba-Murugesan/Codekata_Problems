{
 "cells": [
  {
   "cell_type": "code",
   "execution_count": 1,
   "id": "2d9ce98e-3124-4f3e-8d43-2b2f8658d120",
   "metadata": {
    "tags": []
   },
   "outputs": [
    {
     "name": "stdin",
     "output_type": "stream",
     "text": [
      " guvi coding platform\n"
     ]
    },
    {
     "name": "stdout",
     "output_type": "stream",
     "text": [
      "gvui cnidog proftalm\n"
     ]
    }
   ],
   "source": [
    "def reverseWord(Str):\n",
    "    i = 1\n",
    "    j = len(Str) - 2\n",
    "    while (i < j):\n",
    " \n",
    "        # Swap Str[i] and Str[j]\n",
    "        temp = Str[i]\n",
    "        Str[i] = Str[j]\n",
    "        Str[j] = temp\n",
    "        i += 1\n",
    "        j -= 1\n",
    "    return \"\".join(Str)\n",
    "\n",
    "def Words(Str):\n",
    "    Str = Str.split()\n",
    "    l=[]\n",
    "    for i in Str:\n",
    "        \n",
    "        # Print reversed word using list comprehension to get individual characters\n",
    "        j = [h for h in i]   \n",
    "        l.append(reverseWord(j))\n",
    "    print(*l)\n",
    "\n",
    "Str=input()\n",
    "Words(Str)   \n",
    "    \n",
    "    \n",
    "    \n",
    "    \n",
    "        \n"
   ]
  },
  {
   "cell_type": "code",
   "execution_count": null,
   "id": "16b828cf-7e82-4f0c-a2be-052bad6bfecf",
   "metadata": {},
   "outputs": [],
   "source": []
  }
 ],
 "metadata": {
  "kernelspec": {
   "display_name": "Python 3 (ipykernel)",
   "language": "python",
   "name": "python3"
  },
  "language_info": {
   "codemirror_mode": {
    "name": "ipython",
    "version": 3
   },
   "file_extension": ".py",
   "mimetype": "text/x-python",
   "name": "python",
   "nbconvert_exporter": "python",
   "pygments_lexer": "ipython3",
   "version": "3.11.4"
  }
 },
 "nbformat": 4,
 "nbformat_minor": 5
}

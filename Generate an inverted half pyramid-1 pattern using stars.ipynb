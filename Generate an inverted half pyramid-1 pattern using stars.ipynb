{
 "cells": [
  {
   "cell_type": "code",
   "execution_count": 1,
   "id": "abed37cc",
   "metadata": {},
   "outputs": [
    {
     "name": "stdout",
     "output_type": "stream",
     "text": [
      "5\n",
      "*  *  *  *  *\n",
      "*  *  *  *\n",
      "*  *  *\n",
      "*  *\n",
      "*\n"
     ]
    }
   ],
   "source": [
    "R=int(input())\n",
    "for i in range(0,R):\n",
    "    l=[]\n",
    "    for j in range(0,R-i):\n",
    "        l.append('*')\n",
    "    print('  '.join(l))"
   ]
  },
  {
   "cell_type": "code",
   "execution_count": null,
   "id": "96e675e5",
   "metadata": {},
   "outputs": [],
   "source": []
  }
 ],
 "metadata": {
  "kernelspec": {
   "display_name": "Python 3 (ipykernel)",
   "language": "python",
   "name": "python3"
  },
  "language_info": {
   "codemirror_mode": {
    "name": "ipython",
    "version": 3
   },
   "file_extension": ".py",
   "mimetype": "text/x-python",
   "name": "python",
   "nbconvert_exporter": "python",
   "pygments_lexer": "ipython3",
   "version": "3.11.4"
  }
 },
 "nbformat": 4,
 "nbformat_minor": 5
}

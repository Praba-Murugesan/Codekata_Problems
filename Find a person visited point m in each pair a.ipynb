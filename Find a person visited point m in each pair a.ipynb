{
 "cells": [
  {
   "cell_type": "code",
   "execution_count": null,
   "id": "19afa011-d3f3-4ae0-ad76-5eda5cb7b0a2",
   "metadata": {},
   "outputs": [],
   "source": [
    "n,m=list(map(int,input().split()))\n",
    "count=0\n",
    "for i in range(0,n):\n",
    "    a,b=list(map(int,input().split()))\n",
    "    for j in range(a,b+1):\n",
    "        if(j==m):\n",
    "            count=1\n",
    "if(count==1):\n",
    "    print('yes')\n",
    "else:\n",
    "    print('no')"
   ]
  }
 ],
 "metadata": {
  "kernelspec": {
   "display_name": "Python 3 (ipykernel)",
   "language": "python",
   "name": "python3"
  },
  "language_info": {
   "codemirror_mode": {
    "name": "ipython",
    "version": 3
   },
   "file_extension": ".py",
   "mimetype": "text/x-python",
   "name": "python",
   "nbconvert_exporter": "python",
   "pygments_lexer": "ipython3",
   "version": "3.11.4"
  }
 },
 "nbformat": 4,
 "nbformat_minor": 5
}

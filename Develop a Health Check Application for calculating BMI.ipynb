{
 "cells": [
  {
   "cell_type": "code",
   "execution_count": null,
   "id": "9cc132bc",
   "metadata": {},
   "outputs": [],
   "source": [
    "H,W=list(map(float,input().split()))\n",
    "BMI=round(W/((H/100)*(H/100)),1)\n",
    "print(BMI)\n",
    "if(19<=BMI<=25):\n",
    "    print(\"Maintain your Current Diet Plan \")\n",
    "elif(BMI<19):\n",
    "    print(\"Follow a Calorie Surplus Diet Plan\")\n",
    "elif(BMI>25):\n",
    "    print(\"Follow a Calorie Deficit Diet Plan\")"
   ]
  }
 ],
 "metadata": {
  "kernelspec": {
   "display_name": "Python 3 (ipykernel)",
   "language": "python",
   "name": "python3"
  },
  "language_info": {
   "codemirror_mode": {
    "name": "ipython",
    "version": 3
   },
   "file_extension": ".py",
   "mimetype": "text/x-python",
   "name": "python",
   "nbconvert_exporter": "python",
   "pygments_lexer": "ipython3",
   "version": "3.11.4"
  }
 },
 "nbformat": 4,
 "nbformat_minor": 5
}

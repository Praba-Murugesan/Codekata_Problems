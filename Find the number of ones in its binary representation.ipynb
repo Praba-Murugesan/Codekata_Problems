{
 "cells": [
  {
   "cell_type": "code",
   "execution_count": 1,
   "id": "7f99d78c",
   "metadata": {},
   "outputs": [
    {
     "name": "stdout",
     "output_type": "stream",
     "text": [
      "276\n",
      "3\n"
     ]
    }
   ],
   "source": [
    "N=int(input())\n",
    "c=bin(N)\n",
    "cou=0\n",
    "s=c[2:len(c)]\n",
    "for i in range(0,len(s)):\n",
    "  if(s[i]=='1'):\n",
    "    cou=cou+1\n",
    "print(cou)\n"
   ]
  },
  {
   "cell_type": "code",
   "execution_count": null,
   "id": "93cfaf72",
   "metadata": {},
   "outputs": [],
   "source": []
  }
 ],
 "metadata": {
  "kernelspec": {
   "display_name": "Python 3 (ipykernel)",
   "language": "python",
   "name": "python3"
  },
  "language_info": {
   "codemirror_mode": {
    "name": "ipython",
    "version": 3
   },
   "file_extension": ".py",
   "mimetype": "text/x-python",
   "name": "python",
   "nbconvert_exporter": "python",
   "pygments_lexer": "ipython3",
   "version": "3.11.4"
  }
 },
 "nbformat": 4,
 "nbformat_minor": 5
}

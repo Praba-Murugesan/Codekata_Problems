{
 "cells": [
  {
   "cell_type": "code",
   "execution_count": 1,
   "id": "92810ff7-8a16-4a4b-92c1-6468f1dd00a8",
   "metadata": {
    "tags": []
   },
   "outputs": [
    {
     "name": "stdin",
     "output_type": "stream",
     "text": [
      " codekata challenge\n"
     ]
    },
    {
     "name": "stdout",
     "output_type": "stream",
     "text": [
      "codekata challenge\n"
     ]
    }
   ],
   "source": [
    "S=input()\n",
    "c=0\n",
    "l=[]\n",
    "m=[]\n",
    "l.append(S[0])\n",
    "for i in range(1,len(S)):\n",
    "  \n",
    "  if(S[i-1]==' ' and S[i]==' '):\n",
    "    c=c+1\n",
    "  else:\n",
    "    l.append(S[i])\n",
    "print(''.join(l))"
   ]
  },
  {
   "cell_type": "code",
   "execution_count": null,
   "id": "6b9fc6d5-b352-4b7e-9ff5-d1cd8dbdbb81",
   "metadata": {},
   "outputs": [],
   "source": []
  }
 ],
 "metadata": {
  "kernelspec": {
   "display_name": "Python 3 (ipykernel)",
   "language": "python",
   "name": "python3"
  },
  "language_info": {
   "codemirror_mode": {
    "name": "ipython",
    "version": 3
   },
   "file_extension": ".py",
   "mimetype": "text/x-python",
   "name": "python",
   "nbconvert_exporter": "python",
   "pygments_lexer": "ipython3",
   "version": "3.11.4"
  }
 },
 "nbformat": 4,
 "nbformat_minor": 5
}

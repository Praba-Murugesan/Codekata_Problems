{
 "cells": [
  {
   "cell_type": "code",
   "execution_count": 1,
   "id": "9c435cc2",
   "metadata": {},
   "outputs": [
    {
     "name": "stdout",
     "output_type": "stream",
     "text": [
      "51231\n",
      "6\n"
     ]
    }
   ],
   "source": [
    "N=int(input())\n",
    "count=0\n",
    "l=[]\n",
    "while(N>0):\n",
    "    r=N%10\n",
    "    N=N//10\n",
    "    l.append(r)\n",
    "    count=count+1\n",
    "sum=l[0]+l[count-1]\n",
    "print(sum)"
   ]
  },
  {
   "cell_type": "code",
   "execution_count": null,
   "id": "0080cc19",
   "metadata": {},
   "outputs": [],
   "source": []
  }
 ],
 "metadata": {
  "kernelspec": {
   "display_name": "Python 3 (ipykernel)",
   "language": "python",
   "name": "python3"
  },
  "language_info": {
   "codemirror_mode": {
    "name": "ipython",
    "version": 3
   },
   "file_extension": ".py",
   "mimetype": "text/x-python",
   "name": "python",
   "nbconvert_exporter": "python",
   "pygments_lexer": "ipython3",
   "version": "3.11.4"
  }
 },
 "nbformat": 4,
 "nbformat_minor": 5
}

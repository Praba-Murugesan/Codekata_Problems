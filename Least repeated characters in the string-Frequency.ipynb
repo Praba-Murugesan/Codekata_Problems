{
 "cells": [
  {
   "cell_type": "code",
   "execution_count": 4,
   "id": "c569152c",
   "metadata": {},
   "outputs": [
    {
     "name": "stdout",
     "output_type": "stream",
     "text": [
      "codeKata problem\n",
      "cdKtprblm\n"
     ]
    }
   ],
   "source": [
    "import collections\n",
    "s1=input()\n",
    "s=[]\n",
    "for i in range(0,len(s1)):\n",
    "    if(s1[i]!=' '):\n",
    "        s.append(s1[i])\n",
    "dic = collections.Counter(s)\n",
    "# Printing resultant dictionary\n",
    "dict2={}\n",
    "dict2={k: v for k, v in sorted(dic.items(), key=lambda item: item[1])}\n",
    "l3=[]\n",
    "l4=[]\n",
    "l3=list(dict.fromkeys(dict2))   #l3,l4 converted keys values from dictionary\n",
    "l4=list(dict2.values())\n",
    "i=0\n",
    "j=0\n",
    "l5=[]\n",
    "c=min(l4)\n",
    "count=0\n",
    "for i in range(0,len(l4)):\n",
    "    if(c==l4[i]):\n",
    "        count=count+1\n",
    "print(''.join(l3[:count]))"
   ]
  },
  {
   "cell_type": "code",
   "execution_count": null,
   "id": "a8307af7",
   "metadata": {},
   "outputs": [],
   "source": []
  }
 ],
 "metadata": {
  "kernelspec": {
   "display_name": "Python 3 (ipykernel)",
   "language": "python",
   "name": "python3"
  },
  "language_info": {
   "codemirror_mode": {
    "name": "ipython",
    "version": 3
   },
   "file_extension": ".py",
   "mimetype": "text/x-python",
   "name": "python",
   "nbconvert_exporter": "python",
   "pygments_lexer": "ipython3",
   "version": "3.11.4"
  }
 },
 "nbformat": 4,
 "nbformat_minor": 5
}

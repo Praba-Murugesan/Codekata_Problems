{
 "cells": [
  {
   "cell_type": "code",
   "execution_count": 1,
   "id": "498f0da0-601a-43fe-8b60-b6beb87ecf1d",
   "metadata": {
    "tags": []
   },
   "outputs": [
    {
     "name": "stdin",
     "output_type": "stream",
     "text": [
      " aabbcc\n"
     ]
    },
    {
     "name": "stdout",
     "output_type": "stream",
     "text": [
      "Wonder\n"
     ]
    }
   ],
   "source": [
    "s=input()\n",
    "count=0\n",
    "a=[]\n",
    "for i in s:\n",
    "    if(i not in a):\n",
    "        a.append(i)\n",
    "if(len(a)==3):\n",
    "  print(\"Wonder\")\n",
    "else:\n",
    "  print(\"-1\")   "
   ]
  },
  {
   "cell_type": "code",
   "execution_count": null,
   "id": "b1c628ca-213e-4935-8502-d85acf3571ee",
   "metadata": {},
   "outputs": [],
   "source": []
  }
 ],
 "metadata": {
  "kernelspec": {
   "display_name": "Python 3 (ipykernel)",
   "language": "python",
   "name": "python3"
  },
  "language_info": {
   "codemirror_mode": {
    "name": "ipython",
    "version": 3
   },
   "file_extension": ".py",
   "mimetype": "text/x-python",
   "name": "python",
   "nbconvert_exporter": "python",
   "pygments_lexer": "ipython3",
   "version": "3.11.4"
  }
 },
 "nbformat": 4,
 "nbformat_minor": 5
}

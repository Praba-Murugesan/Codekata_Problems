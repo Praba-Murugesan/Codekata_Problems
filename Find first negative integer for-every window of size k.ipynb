{
 "cells": [
  {
   "cell_type": "code",
   "execution_count": 1,
   "id": "7fd3a130",
   "metadata": {},
   "outputs": [
    {
     "name": "stdout",
     "output_type": "stream",
     "text": [
      "7\n",
      "1 -2 -3 -4 5 6 -7\n",
      "3\n",
      "-2 -2 -3 -4 -7\n"
     ]
    }
   ],
   "source": [
    "n=int(input())\n",
    "l=list(map(int,input().split()))\n",
    "k=int(input())\n",
    "s=[]\n",
    "for i in range(0,n-2):\n",
    "  c=i\n",
    "  count=0\n",
    "  for j in range(c,i+k):\n",
    "    if(l[j]<0):\n",
    "      s.append(l[j])\n",
    "      count=1\n",
    "      break\n",
    "  if(count==0):\n",
    "      s.append(0)\n",
    "print(*s)"
   ]
  }
 ],
 "metadata": {
  "kernelspec": {
   "display_name": "Python 3 (ipykernel)",
   "language": "python",
   "name": "python3"
  },
  "language_info": {
   "codemirror_mode": {
    "name": "ipython",
    "version": 3
   },
   "file_extension": ".py",
   "mimetype": "text/x-python",
   "name": "python",
   "nbconvert_exporter": "python",
   "pygments_lexer": "ipython3",
   "version": "3.11.4"
  }
 },
 "nbformat": 4,
 "nbformat_minor": 5
}

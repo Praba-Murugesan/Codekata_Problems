{
 "cells": [
  {
   "cell_type": "code",
   "execution_count": 18,
   "id": "c02e4af0-e70c-4b36-82e1-8fc636ec183f",
   "metadata": {
    "tags": []
   },
   "outputs": [
    {
     "name": "stdin",
     "output_type": "stream",
     "text": [
      " Vishal Yadav\n"
     ]
    },
    {
     "name": "stdout",
     "output_type": "stream",
     "text": [
      "6 6\n",
      "VYiasdhaavl1\n"
     ]
    }
   ],
   "source": [
    "P,Q=list(map(str,input().split()))\n",
    "N=len(P)\n",
    "M=len(Q)\n",
    "l1=[]\n",
    "\n",
    "l2=[]\n",
    "if(N<=M):\n",
    "    for i in range(0,N):\n",
    "        l2.append(P[i])\n",
    "    for i in range(0,M-N):\n",
    "        l2.append(i+1)\n",
    "    for i in range(0,M):\n",
    "        l1.append(Q[i])\n",
    "if(M<=N):\n",
    "    for i in range(0,M):\n",
    "        l1.append(Q[i])\n",
    "    for i in range(0,N-M):\n",
    "        l1.append(i+1)\n",
    "    for i in range(0,N):\n",
    "        l2.append(P[i])\n",
    "\n",
    "l3=[]\n",
    "for i in range(0,len(l2)):\n",
    "    l3.append(str(l2[i]))\n",
    "    l3.append(str(l1[i]))\n",
    "print(''.join(l3))\n",
    "\n",
    "    \n",
    "    \n",
    "    \n",
    "    "
   ]
  },
  {
   "cell_type": "code",
   "execution_count": null,
   "id": "c31c1671-4295-4d5b-bdb1-162c83135742",
   "metadata": {},
   "outputs": [],
   "source": []
  }
 ],
 "metadata": {
  "kernelspec": {
   "display_name": "Python 3 (ipykernel)",
   "language": "python",
   "name": "python3"
  },
  "language_info": {
   "codemirror_mode": {
    "name": "ipython",
    "version": 3
   },
   "file_extension": ".py",
   "mimetype": "text/x-python",
   "name": "python",
   "nbconvert_exporter": "python",
   "pygments_lexer": "ipython3",
   "version": "3.11.4"
  }
 },
 "nbformat": 4,
 "nbformat_minor": 5
}

{
 "cells": [
  {
   "cell_type": "code",
   "execution_count": 1,
   "id": "cc0d1733-ef50-45f9-92e6-f9bbfc9ab4b7",
   "metadata": {
    "tags": []
   },
   "outputs": [
    {
     "name": "stdin",
     "output_type": "stream",
     "text": [
      " HXTPS2142R\n"
     ]
    },
    {
     "name": "stdout",
     "output_type": "stream",
     "text": [
      "pan\n"
     ]
    }
   ],
   "source": [
    "s=input()\n",
    "c=0\n",
    "d=0\n",
    "e=0\n",
    "for i in range(0,len(s)//2):\n",
    "    if(len(s)==10):\n",
    "        if(s[i].isalpha() and s[i].isupper()):\n",
    "            c=c+1\n",
    "            \n",
    "for i in range(len(s)//2,len(s)-1):\n",
    "    if(len(s)==10):\n",
    "        if(s[i].isnumeric()):\n",
    "            d=d+1     \n",
    "if(s[len(s)-1].isalpha() and s[len(s)-1].isupper() and len(s)==10):\n",
    "  e=1\n",
    "if(e==1 and c==5 and d==4):\n",
    "    print('pan')\n",
    "else:\n",
    "  print('not pan')"
   ]
  },
  {
   "cell_type": "code",
   "execution_count": null,
   "id": "40b4a549-a5e9-4abb-876d-edab6eb9cb35",
   "metadata": {},
   "outputs": [],
   "source": []
  }
 ],
 "metadata": {
  "kernelspec": {
   "display_name": "Python 3 (ipykernel)",
   "language": "python",
   "name": "python3"
  },
  "language_info": {
   "codemirror_mode": {
    "name": "ipython",
    "version": 3
   },
   "file_extension": ".py",
   "mimetype": "text/x-python",
   "name": "python",
   "nbconvert_exporter": "python",
   "pygments_lexer": "ipython3",
   "version": "3.11.4"
  }
 },
 "nbformat": 4,
 "nbformat_minor": 5
}

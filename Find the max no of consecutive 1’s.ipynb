{
 "cells": [
  {
   "cell_type": "code",
   "execution_count": 1,
   "id": "8245f9d8-f7a9-4e9e-8452-73a573f3eb4f",
   "metadata": {
    "tags": []
   },
   "outputs": [
    {
     "name": "stdin",
     "output_type": "stream",
     "text": [
      " 101101111\n"
     ]
    },
    {
     "name": "stdout",
     "output_type": "stream",
     "text": [
      "4\n"
     ]
    }
   ],
   "source": [
    "n=list(input())\n",
    "c=1\n",
    "l=[]\n",
    "for i in range(0,len(n)):\n",
    "    if(n[i]=='1' and i!=len(n)-1):\n",
    "        if(n[i]=='1' and n[i+1]=='1'):\n",
    "            c=c+1\n",
    "       \n",
    "   \n",
    "    elif(n[i]=='0'):\n",
    "        l.append(c)\n",
    "        c=1\n",
    "l.append(c)\n",
    "if(l==[] or max(l)==1):\n",
    "    print('-1')\n",
    "else:\n",
    "    print(max(l))"
   ]
  },
  {
   "cell_type": "code",
   "execution_count": null,
   "id": "fb48104b-bb56-4d69-83e4-b6ee8400fa48",
   "metadata": {},
   "outputs": [],
   "source": []
  }
 ],
 "metadata": {
  "kernelspec": {
   "display_name": "Python 3 (ipykernel)",
   "language": "python",
   "name": "python3"
  },
  "language_info": {
   "codemirror_mode": {
    "name": "ipython",
    "version": 3
   },
   "file_extension": ".py",
   "mimetype": "text/x-python",
   "name": "python",
   "nbconvert_exporter": "python",
   "pygments_lexer": "ipython3",
   "version": "3.11.4"
  }
 },
 "nbformat": 4,
 "nbformat_minor": 5
}

{
 "cells": [
  {
   "cell_type": "code",
   "execution_count": 1,
   "id": "3e08c51a-46c9-490a-adc2-0089c0b8b896",
   "metadata": {
    "tags": []
   },
   "outputs": [
    {
     "name": "stdin",
     "output_type": "stream",
     "text": [
      " I was born on 12 october 1998.\n"
     ]
    },
    {
     "name": "stdout",
     "output_type": "stream",
     "text": [
      "1998\n"
     ]
    }
   ],
   "source": [
    "\n",
    "n=list(map(str,input().split()))\n",
    "large=0\n",
    "l=[]\n",
    "m=[]\n",
    "x=0\n",
    "for i in range(0,len(n)):\n",
    "  if(n[i].isalpha()):\n",
    "    e=1\n",
    "  else:\n",
    "    h=0\n",
    "    \n",
    "    if(n[i][-1]=='.'):\n",
    "      \n",
    "      q=n[i][0:-1]\n",
    "      if(q.isalpha()):\n",
    "        e=2\n",
    "      else:\n",
    "          l.append(int(q)) \n",
    "               \n",
    "    else:  \n",
    "      m.append(n[i])\n",
    "      m=list(map(int,m))\n",
    "      l.append(m[x])\n",
    "      x=x+1\n",
    "print(max(l))\n"
   ]
  },
  {
   "cell_type": "code",
   "execution_count": null,
   "id": "fb27bbce-ed79-4584-907a-4deea9e51eda",
   "metadata": {},
   "outputs": [],
   "source": []
  }
 ],
 "metadata": {
  "kernelspec": {
   "display_name": "Python 3 (ipykernel)",
   "language": "python",
   "name": "python3"
  },
  "language_info": {
   "codemirror_mode": {
    "name": "ipython",
    "version": 3
   },
   "file_extension": ".py",
   "mimetype": "text/x-python",
   "name": "python",
   "nbconvert_exporter": "python",
   "pygments_lexer": "ipython3",
   "version": "3.11.4"
  }
 },
 "nbformat": 4,
 "nbformat_minor": 5
}

{
 "cells": [
  {
   "cell_type": "code",
   "execution_count": 12,
   "id": "35f6e9c8-f038-4521-8c64-f7e49f241df2",
   "metadata": {
    "tags": []
   },
   "outputs": [
    {
     "name": "stdin",
     "output_type": "stream",
     "text": [
      " as123weer12\n",
      " 123\n"
     ]
    },
    {
     "name": "stdout",
     "output_type": "stream",
     "text": [
      "2\n"
     ]
    }
   ],
   "source": [
    "S1=input()\n",
    "S2=input()\n",
    "l=[]\n",
    "count=0\n",
    "if S2 in S1:\n",
    "    for i in range(0,len(S1)):\n",
    "        b=0\n",
    "        if(S2[0]==S1[i]):\n",
    "            k=i\n",
    "            for j in range(0,len(S2)):\n",
    "                if(S1[k]==S2[j]):\n",
    "                    k=k+1\n",
    "                    b=b+1\n",
    "            if(b==len(S2)):\n",
    "                print(k-len(S2))\n",
    "                break\n",
    "                \n",
    "                \n",
    "            \n",
    "     "
   ]
  },
  {
   "cell_type": "code",
   "execution_count": null,
   "id": "98d36f77-c6a0-4f24-b75d-20bb62c64940",
   "metadata": {},
   "outputs": [],
   "source": []
  }
 ],
 "metadata": {
  "kernelspec": {
   "display_name": "Python 3 (ipykernel)",
   "language": "python",
   "name": "python3"
  },
  "language_info": {
   "codemirror_mode": {
    "name": "ipython",
    "version": 3
   },
   "file_extension": ".py",
   "mimetype": "text/x-python",
   "name": "python",
   "nbconvert_exporter": "python",
   "pygments_lexer": "ipython3",
   "version": "3.11.4"
  }
 },
 "nbformat": 4,
 "nbformat_minor": 5
}

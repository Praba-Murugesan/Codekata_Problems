{
 "cells": [
  {
   "cell_type": "code",
   "execution_count": 1,
   "id": "ff20f36c",
   "metadata": {},
   "outputs": [
    {
     "name": "stdout",
     "output_type": "stream",
     "text": [
      "3\n",
      "1 3\n",
      "2 4 6\n",
      "0 9 10 11\n",
      "0 1 2 3 4 6 9 10 11\n"
     ]
    }
   ],
   "source": [
    "k=int(input())\n",
    "s=[]\n",
    "l=[[0]]*k\n",
    "for i in range(0,k):\n",
    "  l[i]=list(map(str,input().split()))\n",
    "d=[]\n",
    "for i in range(0,k):\n",
    "  for j in range(0,len(l[i])):\n",
    "    d.append(l[i][j])\n",
    "    j=j+1   \n",
    "q=[]\n",
    "q=list(map(int,(d)))\n",
    "q.sort()\n",
    "w=[]\n",
    "w=list(map(str,(q)))\n",
    "print(' '.join(w))"
   ]
  },
  {
   "cell_type": "code",
   "execution_count": null,
   "id": "4e6d109f",
   "metadata": {},
   "outputs": [],
   "source": []
  }
 ],
 "metadata": {
  "kernelspec": {
   "display_name": "Python 3 (ipykernel)",
   "language": "python",
   "name": "python3"
  },
  "language_info": {
   "codemirror_mode": {
    "name": "ipython",
    "version": 3
   },
   "file_extension": ".py",
   "mimetype": "text/x-python",
   "name": "python",
   "nbconvert_exporter": "python",
   "pygments_lexer": "ipython3",
   "version": "3.11.4"
  }
 },
 "nbformat": 4,
 "nbformat_minor": 5
}

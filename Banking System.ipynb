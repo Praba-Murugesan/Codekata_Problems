{
 "cells": [
  {
   "cell_type": "code",
   "execution_count": 2,
   "id": "a57621cc",
   "metadata": {},
   "outputs": [
    {
     "name": "stdout",
     "output_type": "stream",
     "text": [
      "3\n",
      "11 john 10000\n",
      "12 anu 20000\n",
      "13 anuj 30000\n",
      "1\n",
      "11 1000\n",
      "11\n",
      "11 john 9000\n",
      "12 anu 20000\n",
      "13 anuj 30000\n"
     ]
    }
   ],
   "source": [
    "def deposit(acc,amt):\n",
    "    for i in range(0,len(l1)):\n",
    "        if(acc==int(l1[i])):\n",
    "            l3[i]=int(l3[i])+amt\n",
    "            break\n",
    "    for i in range(0,len(l1)):\n",
    "      print(l1[i],l2[i],l3[i])          \n",
    "def withdraw(acc,amt):\n",
    "    for i in range(0,len(l1)):\n",
    "        print(l1[i])\n",
    "        if(acc==int(l1[i])):\n",
    "          l3[i]=int(l3[i])-amt\n",
    "          break\n",
    "    for i in range(0,len(l1)):\n",
    "      print(l1[i],l2[i],l3[i])           \n",
    "def moneytransfer(acc1,acc2,amt):\n",
    "    for i in range(0,len(l1)):\n",
    "        if(acc1==int(l1[i])):\n",
    "            (l3[i])=int(l3[i])-amt\n",
    "            break \n",
    "    for i in range(0,len(l1)):\n",
    "        if(acc2==int(l1[i])):\n",
    "            (l3[i])=int(l3[i])+amt\n",
    "            break\n",
    "    for i in range(0,len(l1)):\n",
    "      print(l1[i],l2[i],l3[i])\n",
    "           \n",
    "    \n",
    "N=int(input())\n",
    "l1=[]\n",
    "l2=[]\n",
    "l3=[]\n",
    "for i in range(0,N):\n",
    "    a1,a2,a3=list(map(str,input().split()))\n",
    "    l1.append(a1)\n",
    "    l2.append(a2)\n",
    "    l3.append(a3)\n",
    "b1=int(input())\n",
    "if(b1==1):\n",
    "    b2,b3=list(map(int,input().split()))\n",
    "    withdraw(b2,b3)\n",
    "if(b1==2):\n",
    "    b2,b3=list(map(int,input().split()))\n",
    "    deposit(b2,b3)\n",
    "if(b1==3):\n",
    "    b2,b3,b4=list(map(int,input().split()))\n",
    "    moneytransfer(b2,b3,b4)"
   ]
  },
  {
   "cell_type": "code",
   "execution_count": null,
   "id": "a106459e",
   "metadata": {},
   "outputs": [],
   "source": []
  },
  {
   "cell_type": "code",
   "execution_count": null,
   "id": "d9fe7874",
   "metadata": {},
   "outputs": [],
   "source": []
  },
  {
   "cell_type": "code",
   "execution_count": null,
   "id": "f5deea0e",
   "metadata": {},
   "outputs": [],
   "source": []
  }
 ],
 "metadata": {
  "kernelspec": {
   "display_name": "Python 3 (ipykernel)",
   "language": "python",
   "name": "python3"
  },
  "language_info": {
   "codemirror_mode": {
    "name": "ipython",
    "version": 3
   },
   "file_extension": ".py",
   "mimetype": "text/x-python",
   "name": "python",
   "nbconvert_exporter": "python",
   "pygments_lexer": "ipython3",
   "version": "3.11.4"
  }
 },
 "nbformat": 4,
 "nbformat_minor": 5
}
